{
 "cells": [
  {
   "cell_type": "markdown",
   "metadata": {
    "id": "_lhrn5O-qUYZ"
   },
   "source": [
    "# Import and misc"
   ]
  },
  {
   "cell_type": "code",
   "execution_count": 1,
   "metadata": {
    "ExecuteTime": {
     "end_time": "2022-11-07T01:20:07.512860Z",
     "start_time": "2022-11-07T01:20:06.229623Z"
    },
    "id": "bbUpoArCqUYa"
   },
   "outputs": [
    {
     "name": "stderr",
     "output_type": "stream",
     "text": [
      "/home/dpozdeev/anaconda3/envs/dla-kws/lib/python3.9/site-packages/tqdm/auto.py:22: TqdmWarning: IProgress not found. Please update jupyter and ipywidgets. See https://ipywidgets.readthedocs.io/en/stable/user_install.html\n",
      "  from .autonotebook import tqdm as notebook_tqdm\n"
     ]
    }
   ],
   "source": [
    "from typing import Tuple, Union, List, Callable, Optional\n",
    "from tqdm import tqdm\n",
    "from itertools import islice\n",
    "import pathlib\n",
    "import dataclasses\n",
    "\n",
    "import numpy as np\n",
    "import pandas as pd\n",
    "\n",
    "import torch\n",
    "import torch.nn.functional as F\n",
    "from torch import nn\n",
    "from torch import distributions\n",
    "from torch.utils.data import DataLoader, Dataset, WeightedRandomSampler\n",
    "from torch.nn.utils.rnn import pad_sequence\n",
    "\n",
    "import torchaudio\n",
    "from IPython import display as display_\n",
    "\n",
    "from collections import defaultdict\n",
    "from IPython.display import clear_output\n",
    "from matplotlib import pyplot as plt\n",
    "import matplotlib.pyplot as plt\n",
    "from thop import profile\n",
    "import tempfile"
   ]
  },
  {
   "cell_type": "code",
   "execution_count": 2,
   "metadata": {
    "ExecuteTime": {
     "end_time": "2022-11-07T01:20:07.534219Z",
     "start_time": "2022-11-07T01:20:07.530951Z"
    }
   },
   "outputs": [],
   "source": [
    "def fix_seed(seed):\n",
    "    torch.manual_seed(seed)\n",
    "    torch.backends.cudnn.deterministic = True\n",
    "    torch.backends.cudnn.benchmark = False\n",
    "    np.random.seed(seed)"
   ]
  },
  {
   "cell_type": "code",
   "execution_count": 3,
   "metadata": {
    "ExecuteTime": {
     "end_time": "2022-11-07T01:20:07.644419Z",
     "start_time": "2022-11-07T01:20:07.551201Z"
    }
   },
   "outputs": [],
   "source": [
    "fix_seed(9999)"
   ]
  },
  {
   "cell_type": "markdown",
   "metadata": {
    "id": "812GwLfqqUYf"
   },
   "source": [
    "# Task"
   ]
  },
  {
   "cell_type": "markdown",
   "metadata": {
    "id": "i1DuQIyRqUYf"
   },
   "source": [
    "In this notebook we will implement a model for finding a keyword in a stream.\n",
    "\n",
    "We will implement the version with CRNN because it is easy and improves the model. \n",
    "(from https://www.dropbox.com/s/22ah2ba7dug6pzw/KWS_Attention.pdf)"
   ]
  },
  {
   "cell_type": "code",
   "execution_count": 4,
   "metadata": {
    "ExecuteTime": {
     "end_time": "2022-11-07T01:20:08.691218Z",
     "start_time": "2022-11-07T01:20:08.637486Z"
    }
   },
   "outputs": [],
   "source": [
    "@dataclasses.dataclass\n",
    "class BaseConfig:\n",
    "    keyword: str = 'sheila'  # We will use 1 key word -- 'sheila'\n",
    "    batch_size: int = 128\n",
    "    learning_rate: float = 3e-4\n",
    "    weight_decay: float = 1e-5\n",
    "    num_epochs: int = 20\n",
    "    n_mels: int = 40\n",
    "    cnn_out_channels: int = 8\n",
    "    kernel_size: Tuple[int, int] = (5, 20)\n",
    "    stride: Tuple[int, int] = (2, 8)\n",
    "    hidden_size: int = 32\n",
    "    gru_num_layers: int = 2\n",
    "    bidirectional: bool = False\n",
    "    dropout: float = 0.\n",
    "    num_classes: int = 2\n",
    "    sample_rate: int = 16000\n",
    "    device: torch.device = torch.device(\n",
    "        'cuda:0' if torch.cuda.is_available() else 'cpu')\n",
    "\n",
    "    alpha: float = 0.\n",
    "    temp: float = 1."
   ]
  },
  {
   "cell_type": "markdown",
   "metadata": {
    "id": "KA1gPmE1h9pI"
   },
   "source": [
    "# Data"
   ]
  },
  {
   "cell_type": "code",
   "execution_count": 5,
   "metadata": {
    "ExecuteTime": {
     "end_time": "2022-11-07T01:20:09.220997Z",
     "start_time": "2022-11-07T01:20:09.217060Z"
    },
    "colab": {
     "base_uri": "https://localhost:8080/"
    },
    "id": "Y2N8zcx9MF1X",
    "outputId": "7f8235e9-e2dd-4e33-cabe-07b92c0f2c36"
   },
   "outputs": [],
   "source": [
    "# !wget http://download.tensorflow.org/data/speech_commands_v0.01.tar.gz -O speech_commands_v0.01.tar.gz\n",
    "# !mkdir speech_commands && tar -C speech_commands -xvzf speech_commands_v0.01.tar.gz 1> log"
   ]
  },
  {
   "cell_type": "code",
   "execution_count": 6,
   "metadata": {
    "ExecuteTime": {
     "end_time": "2022-11-07T01:20:09.522680Z",
     "start_time": "2022-11-07T01:20:09.507798Z"
    },
    "id": "12wBTK0mNUsG"
   },
   "outputs": [],
   "source": [
    "class SpeechCommandDataset(Dataset):\n",
    "\n",
    "    def __init__(\n",
    "        self,\n",
    "        transform: Optional[Callable] = None,\n",
    "        path2dir: str = None,\n",
    "        keywords: Union[str, List[str]] = None,\n",
    "        csv: Optional[pd.DataFrame] = None\n",
    "    ):        \n",
    "        self.transform = transform\n",
    "\n",
    "        if csv is None:\n",
    "            path2dir = pathlib.Path(path2dir)\n",
    "            keywords = keywords if isinstance(keywords, list) else [keywords]\n",
    "            \n",
    "            all_keywords = [\n",
    "                p.stem for p in path2dir.glob('*')\n",
    "                if p.is_dir() and not p.stem.startswith('_')\n",
    "            ]\n",
    "\n",
    "            triplets = []\n",
    "            for keyword in all_keywords:\n",
    "                paths = (path2dir / keyword).rglob('*.wav')\n",
    "                if keyword in keywords:\n",
    "                    for path2wav in paths:\n",
    "                        triplets.append((path2wav.as_posix(), keyword, 1))\n",
    "                else:\n",
    "                    for path2wav in paths:\n",
    "                        triplets.append((path2wav.as_posix(), keyword, 0))\n",
    "            \n",
    "            self.csv = pd.DataFrame(\n",
    "                triplets,\n",
    "                columns=['path', 'keyword', 'label']\n",
    "            )\n",
    "\n",
    "        else:\n",
    "            self.csv = csv\n",
    "    \n",
    "    def __getitem__(self, index: int):\n",
    "        instance = self.csv.iloc[index]\n",
    "\n",
    "        path2wav = instance['path']\n",
    "        wav, sr = torchaudio.load(path2wav)\n",
    "        wav = wav.sum(dim=0)\n",
    "        \n",
    "        if self.transform:\n",
    "            wav = self.transform(wav)\n",
    "\n",
    "        return {\n",
    "            'wav': wav,\n",
    "            'keywors': instance['keyword'],\n",
    "            'label': instance['label']\n",
    "        }\n",
    "\n",
    "    def __len__(self):\n",
    "        return len(self.csv)"
   ]
  },
  {
   "cell_type": "code",
   "execution_count": 7,
   "metadata": {
    "ExecuteTime": {
     "end_time": "2022-11-07T01:20:10.385445Z",
     "start_time": "2022-11-07T01:20:09.829380Z"
    },
    "id": "-1rVkT81Pk90"
   },
   "outputs": [],
   "source": [
    "dataset = SpeechCommandDataset(\n",
    "    path2dir='speech_commands', keywords=BaseConfig.keyword\n",
    ")"
   ]
  },
  {
   "cell_type": "code",
   "execution_count": 8,
   "metadata": {
    "ExecuteTime": {
     "end_time": "2022-11-07T01:20:10.402939Z",
     "start_time": "2022-11-07T01:20:10.387891Z"
    },
    "colab": {
     "base_uri": "https://localhost:8080/",
     "height": 204
    },
    "id": "DFwhAXdfQLIA",
    "outputId": "ce911e31-70e4-43d9-d5f0-5eca0e4776fc"
   },
   "outputs": [
    {
     "data": {
      "text/html": [
       "<div>\n",
       "<style scoped>\n",
       "    .dataframe tbody tr th:only-of-type {\n",
       "        vertical-align: middle;\n",
       "    }\n",
       "\n",
       "    .dataframe tbody tr th {\n",
       "        vertical-align: top;\n",
       "    }\n",
       "\n",
       "    .dataframe thead th {\n",
       "        text-align: right;\n",
       "    }\n",
       "</style>\n",
       "<table border=\"1\" class=\"dataframe\">\n",
       "  <thead>\n",
       "    <tr style=\"text-align: right;\">\n",
       "      <th></th>\n",
       "      <th>path</th>\n",
       "      <th>keyword</th>\n",
       "      <th>label</th>\n",
       "    </tr>\n",
       "  </thead>\n",
       "  <tbody>\n",
       "    <tr>\n",
       "      <th>39918</th>\n",
       "      <td>speech_commands/bed/db9d52d2_nohash_1.wav</td>\n",
       "      <td>bed</td>\n",
       "      <td>0</td>\n",
       "    </tr>\n",
       "    <tr>\n",
       "      <th>58118</th>\n",
       "      <td>speech_commands/tree/15f04ff8_nohash_0.wav</td>\n",
       "      <td>tree</td>\n",
       "      <td>0</td>\n",
       "    </tr>\n",
       "    <tr>\n",
       "      <th>16952</th>\n",
       "      <td>speech_commands/down/bc196f81_nohash_1.wav</td>\n",
       "      <td>down</td>\n",
       "      <td>0</td>\n",
       "    </tr>\n",
       "    <tr>\n",
       "      <th>42169</th>\n",
       "      <td>speech_commands/no/0f7dc557_nohash_0.wav</td>\n",
       "      <td>no</td>\n",
       "      <td>0</td>\n",
       "    </tr>\n",
       "    <tr>\n",
       "      <th>55518</th>\n",
       "      <td>speech_commands/six/15b0c947_nohash_2.wav</td>\n",
       "      <td>six</td>\n",
       "      <td>0</td>\n",
       "    </tr>\n",
       "  </tbody>\n",
       "</table>\n",
       "</div>"
      ],
      "text/plain": [
       "                                             path keyword  label\n",
       "39918   speech_commands/bed/db9d52d2_nohash_1.wav     bed      0\n",
       "58118  speech_commands/tree/15f04ff8_nohash_0.wav    tree      0\n",
       "16952  speech_commands/down/bc196f81_nohash_1.wav    down      0\n",
       "42169    speech_commands/no/0f7dc557_nohash_0.wav      no      0\n",
       "55518   speech_commands/six/15b0c947_nohash_2.wav     six      0"
      ]
     },
     "execution_count": 8,
     "metadata": {},
     "output_type": "execute_result"
    }
   ],
   "source": [
    "dataset.csv.sample(5)"
   ]
  },
  {
   "cell_type": "markdown",
   "metadata": {
    "id": "LUxfDJw1qUYi"
   },
   "source": [
    "### Augmentations"
   ]
  },
  {
   "cell_type": "code",
   "execution_count": 9,
   "metadata": {
    "ExecuteTime": {
     "end_time": "2022-11-07T01:20:10.880870Z",
     "start_time": "2022-11-07T01:20:10.866045Z"
    },
    "id": "dkmkxPWQqUYe"
   },
   "outputs": [],
   "source": [
    "class AugsCreation:\n",
    "\n",
    "    def __init__(self):\n",
    "        self.background_noises = [\n",
    "            'speech_commands/_background_noise_/white_noise.wav',\n",
    "            'speech_commands/_background_noise_/dude_miaowing.wav',\n",
    "            'speech_commands/_background_noise_/doing_the_dishes.wav',\n",
    "            'speech_commands/_background_noise_/exercise_bike.wav',\n",
    "            'speech_commands/_background_noise_/pink_noise.wav',\n",
    "            'speech_commands/_background_noise_/running_tap.wav'\n",
    "        ]\n",
    "\n",
    "        self.noises = [\n",
    "            torchaudio.load(p)[0].squeeze()\n",
    "            for p in self.background_noises\n",
    "        ]\n",
    "\n",
    "    def add_rand_noise(self, audio):\n",
    "\n",
    "        # randomly choose noise\n",
    "        noise_num = torch.randint(low=0, high=len(\n",
    "            self.background_noises), size=(1,)).item()\n",
    "        noise = self.noises[noise_num]\n",
    "\n",
    "        noise_level = torch.Tensor([1])  # [0, 40]\n",
    "\n",
    "        noise_energy = torch.norm(noise)\n",
    "        audio_energy = torch.norm(audio)\n",
    "        alpha = (audio_energy / noise_energy) * \\\n",
    "            torch.pow(10, -noise_level / 20)\n",
    "\n",
    "        start = torch.randint(\n",
    "            low=0,\n",
    "            high=max(int(noise.size(0) - audio.size(0) - 1), 1),\n",
    "            size=(1,)\n",
    "        ).item()\n",
    "        noise_sample = noise[start: start + audio.size(0)]\n",
    "\n",
    "        audio_new = audio + alpha * noise_sample\n",
    "        audio_new.clamp_(-1, 1)\n",
    "        return audio_new\n",
    "\n",
    "    def __call__(self, wav):\n",
    "        aug_num = torch.randint(low=0, high=4, size=(1,)).item()   # choose 1 random aug from augs\n",
    "        augs = [\n",
    "            lambda x: x,\n",
    "            lambda x: (x + distributions.Normal(0, 0.01).sample(x.size())).clamp_(-1, 1),\n",
    "            lambda x: torchaudio.transforms.Vol(.25)(x),\n",
    "            lambda x: self.add_rand_noise(x)\n",
    "        ]\n",
    "\n",
    "        return augs[aug_num](wav)"
   ]
  },
  {
   "cell_type": "code",
   "execution_count": 10,
   "metadata": {
    "ExecuteTime": {
     "end_time": "2022-11-07T01:20:11.511421Z",
     "start_time": "2022-11-07T01:20:11.126283Z"
    },
    "id": "ClWThxyYh9pM"
   },
   "outputs": [],
   "source": [
    "from sklearn.model_selection import train_test_split\n",
    "train_indexes, val_indexes = train_test_split(np.arange(len(dataset)), train_size=0.8, random_state=42)\n",
    "\n",
    "train_df = dataset.csv.iloc[train_indexes].reset_index(drop=True)\n",
    "val_df = dataset.csv.iloc[val_indexes].reset_index(drop=True)"
   ]
  },
  {
   "cell_type": "code",
   "execution_count": 11,
   "metadata": {
    "ExecuteTime": {
     "end_time": "2022-11-07T01:20:11.618640Z",
     "start_time": "2022-11-07T01:20:11.546219Z"
    },
    "id": "PDPLht5fqUYe"
   },
   "outputs": [],
   "source": [
    "# Sample is a dict of utt, word and label\n",
    "train_set = SpeechCommandDataset(csv=train_df, transform=AugsCreation())\n",
    "val_set = SpeechCommandDataset(csv=val_df)"
   ]
  },
  {
   "cell_type": "markdown",
   "metadata": {
    "id": "2vbPDqd6qUYj"
   },
   "source": [
    "### Sampler for oversampling:"
   ]
  },
  {
   "cell_type": "code",
   "execution_count": 12,
   "metadata": {
    "ExecuteTime": {
     "end_time": "2022-11-07T01:20:11.884665Z",
     "start_time": "2022-11-07T01:20:11.879058Z"
    },
    "id": "rfnjRKo2qUYj"
   },
   "outputs": [],
   "source": [
    "# We should provide to WeightedRandomSampler _weight for every sample_; by default it is 1/len(target)\n",
    "\n",
    "def get_sampler(target):\n",
    "    class_sample_count = np.array(\n",
    "        [len(np.where(target == t)[0]) for t in np.unique(target)])   # for every class count it's number of occ.\n",
    "    weight = 1. / class_sample_count\n",
    "    samples_weight = np.array([weight[t] for t in target])\n",
    "    samples_weight = torch.from_numpy(samples_weight)\n",
    "    samples_weigth = samples_weight.float()\n",
    "    sampler = WeightedRandomSampler(samples_weight, len(samples_weight))\n",
    "    return sampler"
   ]
  },
  {
   "cell_type": "code",
   "execution_count": 13,
   "metadata": {
    "ExecuteTime": {
     "end_time": "2022-11-07T01:20:12.237971Z",
     "start_time": "2022-11-07T01:20:12.199020Z"
    },
    "id": "UM8gLmHeqUYj"
   },
   "outputs": [],
   "source": [
    "train_sampler = get_sampler(train_set.csv['label'].values)"
   ]
  },
  {
   "cell_type": "code",
   "execution_count": 14,
   "metadata": {
    "ExecuteTime": {
     "end_time": "2022-11-07T01:20:12.506759Z",
     "start_time": "2022-11-07T01:20:12.501445Z"
    },
    "id": "lyBqbxp0h9pO"
   },
   "outputs": [],
   "source": [
    "class Collator:\n",
    "    \n",
    "    def __call__(self, data):\n",
    "        wavs = []\n",
    "        labels = []    \n",
    "\n",
    "        for el in data:\n",
    "            wavs.append(el['wav'])\n",
    "            labels.append(el['label'])\n",
    "\n",
    "        # torch.nn.utils.rnn.pad_sequence takes list(Tensors) and returns padded (with 0.0) Tensor\n",
    "        wavs = pad_sequence(wavs, batch_first=True)    \n",
    "        labels = torch.Tensor(labels).long()\n",
    "        return wavs, labels"
   ]
  },
  {
   "cell_type": "markdown",
   "metadata": {
    "id": "e8G9xPRVqUYk"
   },
   "source": [
    "###  Dataloaders"
   ]
  },
  {
   "cell_type": "code",
   "execution_count": 15,
   "metadata": {
    "ExecuteTime": {
     "end_time": "2022-11-07T01:20:13.197425Z",
     "start_time": "2022-11-07T01:20:13.192260Z"
    },
    "id": "6wGBMcQiqUYk"
   },
   "outputs": [],
   "source": [
    "# Here we are obliged to use shuffle=False because of our sampler with randomness inside.\n",
    "\n",
    "train_loader = DataLoader(train_set, batch_size=BaseConfig.batch_size,\n",
    "                          shuffle=False, collate_fn=Collator(),\n",
    "                          sampler=train_sampler,\n",
    "                          num_workers=2, pin_memory=True)\n",
    "\n",
    "val_loader = DataLoader(val_set, batch_size=BaseConfig.batch_size,\n",
    "                        shuffle=False, collate_fn=Collator(),\n",
    "                        num_workers=2, pin_memory=True)"
   ]
  },
  {
   "cell_type": "markdown",
   "metadata": {
    "id": "kTlsn6cpqUYk"
   },
   "source": [
    "### Creating MelSpecs on GPU for speeeed: "
   ]
  },
  {
   "cell_type": "code",
   "execution_count": 16,
   "metadata": {
    "ExecuteTime": {
     "end_time": "2022-11-07T01:20:13.860155Z",
     "start_time": "2022-11-07T01:20:13.852722Z"
    },
    "id": "pRXMt6it56fW"
   },
   "outputs": [],
   "source": [
    "class LogMelspec:\n",
    "\n",
    "    def __init__(self, is_train, config):\n",
    "        # with augmentations\n",
    "        if is_train:\n",
    "            self.melspec = nn.Sequential(\n",
    "                torchaudio.transforms.MelSpectrogram(\n",
    "                    sample_rate=config.sample_rate,\n",
    "                    n_fft=400,\n",
    "                    win_length=400,\n",
    "                    hop_length=160,\n",
    "                    n_mels=config.n_mels\n",
    "                ),\n",
    "                torchaudio.transforms.FrequencyMasking(freq_mask_param=15),\n",
    "                torchaudio.transforms.TimeMasking(time_mask_param=35),\n",
    "            ).to(config.device)\n",
    "\n",
    "        # no augmentations\n",
    "        else:\n",
    "            self.melspec = torchaudio.transforms.MelSpectrogram(\n",
    "                sample_rate=config.sample_rate,\n",
    "                n_fft=400,\n",
    "                win_length=400,\n",
    "                hop_length=160,\n",
    "                n_mels=config.n_mels\n",
    "            ).to(config.device)\n",
    "\n",
    "    def __call__(self, batch):\n",
    "        # already on device\n",
    "        return torch.log(self.melspec(batch).clamp_(min=1e-9, max=1e9))"
   ]
  },
  {
   "cell_type": "code",
   "execution_count": 17,
   "metadata": {
    "ExecuteTime": {
     "end_time": "2022-11-07T01:20:16.327942Z",
     "start_time": "2022-11-07T01:20:14.255581Z"
    },
    "id": "Pqkz4_gn8BiF"
   },
   "outputs": [],
   "source": [
    "melspec_train = LogMelspec(is_train=True, config=BaseConfig)\n",
    "melspec_val = LogMelspec(is_train=False, config=BaseConfig)"
   ]
  },
  {
   "cell_type": "markdown",
   "metadata": {
    "id": "zoAxmihY8yxr"
   },
   "source": [
    "### Quality measurment functions:"
   ]
  },
  {
   "cell_type": "code",
   "execution_count": 18,
   "metadata": {
    "ExecuteTime": {
     "end_time": "2022-11-07T01:20:16.371191Z",
     "start_time": "2022-11-07T01:20:16.367376Z"
    },
    "id": "euwD1UyuqUYk"
   },
   "outputs": [],
   "source": [
    "# FA - true: 0, model: 1\n",
    "# FR - true: 1, model: 0\n",
    "\n",
    "def count_FA_FR(preds, labels):\n",
    "    FA = torch.sum(preds[labels == 0])\n",
    "    FR = torch.sum(labels[preds == 0])\n",
    "    \n",
    "    # torch.numel - returns total number of elements in tensor\n",
    "    return FA.item() / torch.numel(preds), FR.item() / torch.numel(preds)"
   ]
  },
  {
   "cell_type": "code",
   "execution_count": 19,
   "metadata": {
    "ExecuteTime": {
     "end_time": "2022-11-07T01:20:16.486661Z",
     "start_time": "2022-11-07T01:20:16.406963Z"
    },
    "id": "YHBUrkT1qUYk"
   },
   "outputs": [],
   "source": [
    "def get_au_fa_fr(probs, labels):\n",
    "    sorted_probs, _ = torch.sort(probs)\n",
    "    sorted_probs = torch.cat((torch.Tensor([0]), sorted_probs, torch.Tensor([1])))\n",
    "    labels = torch.cat(labels, dim=0)\n",
    "        \n",
    "    FAs, FRs = [], []\n",
    "    for prob in sorted_probs:\n",
    "        preds = (probs >= prob) * 1\n",
    "        FA, FR = count_FA_FR(preds, labels)        \n",
    "        FAs.append(FA)\n",
    "        FRs.append(FR)\n",
    "    # plt.plot(FAs, FRs)\n",
    "    # plt.show()\n",
    "\n",
    "    # ~ area under curve using trapezoidal rule\n",
    "    return -np.trapz(FRs, x=FAs)"
   ]
  },
  {
   "cell_type": "markdown",
   "metadata": {
    "id": "CcEP5cEZqUYl"
   },
   "source": [
    "# Model"
   ]
  },
  {
   "cell_type": "code",
   "execution_count": 20,
   "metadata": {
    "ExecuteTime": {
     "end_time": "2022-11-07T01:20:16.605056Z",
     "start_time": "2022-11-07T01:20:16.534291Z"
    },
    "colab": {
     "base_uri": "https://localhost:8080/"
    },
    "id": "2cP_pFIsy5p2",
    "outputId": "1af690bf-bba6-4033-84e7-b400d37c846b"
   },
   "outputs": [],
   "source": [
    "class Attention(nn.Module):\n",
    "\n",
    "    def __init__(self, hidden_size: int):\n",
    "        super().__init__()\n",
    "\n",
    "        self.energy = nn.Sequential(\n",
    "            nn.Linear(hidden_size, hidden_size),\n",
    "            nn.Tanh(),\n",
    "            nn.Linear(hidden_size, 1)\n",
    "        )\n",
    "    \n",
    "    def forward(self, input):\n",
    "        energy = self.energy(input)\n",
    "        alpha = torch.softmax(energy, dim=-2)\n",
    "        return (input * alpha).sum(dim=-2)\n",
    "\n",
    "class CRNN(nn.Module):\n",
    "\n",
    "    def __init__(self, config):\n",
    "        super().__init__()\n",
    "        self.config = config\n",
    "        \n",
    "        self.conv = nn.Sequential(\n",
    "            nn.Conv2d(\n",
    "                in_channels=1, out_channels=config.cnn_out_channels,\n",
    "                kernel_size=config.kernel_size, stride=config.stride\n",
    "            ),\n",
    "            nn.Flatten(start_dim=1, end_dim=2),\n",
    "        )\n",
    "\n",
    "        self.conv_out_frequency = (config.n_mels - config.kernel_size[0]) // \\\n",
    "            config.stride[0] + 1\n",
    "        \n",
    "        self.gru = nn.GRU(\n",
    "            input_size=self.conv_out_frequency * config.cnn_out_channels,\n",
    "            hidden_size=config.hidden_size,\n",
    "            num_layers=config.gru_num_layers,\n",
    "            dropout=config.dropout,\n",
    "            bidirectional=config.bidirectional,\n",
    "            batch_first=True\n",
    "        )\n",
    "\n",
    "        self.attention = Attention(config.hidden_size)\n",
    "        self.classifier = nn.Linear(config.hidden_size, config.num_classes)\n",
    "    \n",
    "    def forward(self, input):\n",
    "        input = input.unsqueeze(dim=1)\n",
    "        conv_output = self.conv(input).transpose(-1, -2)\n",
    "        gru_output, _ = self.gru(conv_output)\n",
    "        contex_vector = self.attention(gru_output)\n",
    "        output = self.classifier(contex_vector)\n",
    "        return output"
   ]
  },
  {
   "cell_type": "code",
   "execution_count": 21,
   "metadata": {
    "ExecuteTime": {
     "end_time": "2022-11-07T01:20:17.075762Z",
     "start_time": "2022-11-07T01:20:17.067840Z"
    },
    "id": "DmmSFvWaqUYn"
   },
   "outputs": [],
   "source": [
    "def train_epoch(model, opt, loader, log_melspec, device):\n",
    "    model.train()\n",
    "    for i, (batch, labels) in tqdm(enumerate(loader), total=len(loader)):\n",
    "        batch, labels = batch.to(device), labels.to(device)\n",
    "\n",
    "        batch = log_melspec(batch)\n",
    "        opt.zero_grad()\n",
    "\n",
    "        # run model # with autocast():\n",
    "        logits = model(batch)\n",
    "        # we need probabilities so we use softmax & CE separately\n",
    "        probs = F.softmax(logits, dim=-1)\n",
    "        loss = F.cross_entropy(logits, labels)\n",
    "\n",
    "        loss.backward()\n",
    "        torch.nn.utils.clip_grad_norm_(model.parameters(), 5)\n",
    "\n",
    "        opt.step()\n",
    "\n",
    "        # logging\n",
    "        argmax_probs = torch.argmax(probs, dim=-1)\n",
    "        FA, FR = count_FA_FR(argmax_probs, labels)\n",
    "        acc = torch.sum(argmax_probs == labels) / torch.numel(argmax_probs)\n",
    "\n",
    "    return acc"
   ]
  },
  {
   "cell_type": "code",
   "execution_count": 22,
   "metadata": {
    "ExecuteTime": {
     "end_time": "2022-11-07T01:20:17.549076Z",
     "start_time": "2022-11-07T01:20:17.541313Z"
    },
    "id": "UIeRbn4tqUYo"
   },
   "outputs": [],
   "source": [
    "@torch.no_grad()\n",
    "def validation(model, loader, log_melspec, device):\n",
    "    model.eval()\n",
    "\n",
    "    val_losses, accs, FAs, FRs = [], [], [], []\n",
    "    all_probs, all_labels = [], []\n",
    "    for i, (batch, labels) in tqdm(enumerate(loader)):\n",
    "        batch, labels = batch.to(device), labels.to(device)\n",
    "        batch = log_melspec(batch)\n",
    "\n",
    "        output = model(batch)\n",
    "        # we need probabilities so we use softmax & CE separately\n",
    "        probs = F.softmax(output, dim=-1)\n",
    "        loss = F.cross_entropy(output, labels)\n",
    "\n",
    "        # logging\n",
    "        argmax_probs = torch.argmax(probs, dim=-1)\n",
    "        all_probs.append(probs[:, 1].cpu())\n",
    "        all_labels.append(labels.cpu())\n",
    "        val_losses.append(loss.item())\n",
    "        accs.append(\n",
    "            torch.sum(argmax_probs == labels).item() /  # ???\n",
    "            torch.numel(argmax_probs)\n",
    "        )\n",
    "        FA, FR = count_FA_FR(argmax_probs, labels)\n",
    "        FAs.append(FA)\n",
    "        FRs.append(FR)\n",
    "\n",
    "    # area under FA/FR curve for whole loader\n",
    "    au_fa_fr = get_au_fa_fr(torch.cat(all_probs, dim=0).cpu(), all_labels)\n",
    "    return au_fa_fr"
   ]
  },
  {
   "cell_type": "code",
   "execution_count": 23,
   "metadata": {
    "ExecuteTime": {
     "end_time": "2022-11-07T01:20:18.151391Z",
     "start_time": "2022-11-07T01:20:18.147173Z"
    },
    "id": "PpyvKwp0k3IU"
   },
   "outputs": [],
   "source": [
    "from collections import defaultdict\n",
    "from IPython.display import clear_output\n",
    "from matplotlib import pyplot as plt"
   ]
  },
  {
   "cell_type": "markdown",
   "metadata": {
    "id": "GSNW-nZCJ4Q0"
   },
   "source": [
    "# Training"
   ]
  },
  {
   "cell_type": "code",
   "execution_count": 24,
   "metadata": {
    "ExecuteTime": {
     "end_time": "2022-11-07T01:20:19.361166Z",
     "start_time": "2022-11-07T01:20:19.347383Z"
    }
   },
   "outputs": [],
   "source": [
    "from thop import profile\n",
    "import tempfile\n",
    "from copy import deepcopy\n",
    "\n",
    "@torch.no_grad()\n",
    "def get_number_of_flops_per_layer(model):\n",
    "    results = {}\n",
    "    def add_results(module_name, x):\n",
    "        module = getattr(model, module_name)\n",
    "        if module_name == 'conv':\n",
    "            module = module[0]\n",
    "        results[module_name] = profile(module, (x, ))[0]\n",
    "    \n",
    "    x = melspec_val(torch.rand(size=[1, model.config.sample_rate * 2]).to(model.config.device)).unsqueeze(1)\n",
    "    \n",
    "    add_results('conv', x)\n",
    "    conv_output = model.conv(x).transpose(-1, -2)\n",
    "    \n",
    "    add_results('gru', conv_output)\n",
    "    gru_output, _ = model.gru(conv_output)\n",
    "\n",
    "    add_results('attention', gru_output)\n",
    "    contex_vector = model.attention(gru_output)\n",
    "    \n",
    "    add_results('classifier', contex_vector)\n",
    "    output = model.classifier(contex_vector)\n",
    "    \n",
    "    return results\n",
    "\n",
    "class Metrics:\n",
    "\n",
    "    def __init__(self, base_model):\n",
    "        self.base_macs = Metrics.get_macs(base_model)\n",
    "        self.base_mbs = Metrics.get_size_in_megabytes(base_model)\n",
    "\n",
    "        self.val_metric = validation(base_model, val_loader, melspec_val, config.device)\n",
    "        \n",
    "    @staticmethod\n",
    "    def get_macs(model):\n",
    "        test_input = melspec_val(torch.rand(size=[1, model.config.sample_rate * 2]).to(model.config.device))\n",
    "        return profile(model, test_input.unsqueeze(0))[0]  # -> (6.0 MACs, 3.0 parameters)\n",
    "\n",
    "    @staticmethod\n",
    "    def get_size_in_megabytes(model):\n",
    "        # https://pytorch.org/tutorials/recipes/recipes/dynamic_quantization.html#look-at-model-size\n",
    "        with tempfile.TemporaryFile() as f:\n",
    "            torch.save(model.state_dict(), f)\n",
    "            size = f.tell() / 2**20\n",
    "        return size\n",
    "\n",
    "\n",
    "    def __call__(self, new_model):\n",
    "        new_macs = Metrics.get_macs(new_model)\n",
    "        new_base_mbs = Metrics.get_size_in_megabytes(new_model)\n",
    "\n",
    "        new_val_metric = validation(new_model, val_loader, melspec_val, config.device)\n",
    "\n",
    "        print('Macs improvement', self.base_macs / new_macs)\n",
    "        print('Mbs imporvement', self.base_mbs / new_base_mbs)\n",
    "        print('Val metric', new_val_metric)\n",
    "    "
   ]
  },
  {
   "cell_type": "code",
   "execution_count": 25,
   "metadata": {
    "ExecuteTime": {
     "end_time": "2022-11-07T01:20:20.439760Z",
     "start_time": "2022-11-07T01:20:20.426143Z"
    }
   },
   "outputs": [],
   "source": [
    "import utils\n",
    "path = '/home/dpozdeev/dla-kws/save/Base/1105_021522/Base_sched=False.tar'\n",
    "'/home/dpozdeev/dla-kws/save/Base/1105_013259/Base_sched=False.tar'\n",
    "base_model = utils.load_model(path)"
   ]
  },
  {
   "cell_type": "markdown",
   "metadata": {
    "heading_collapsed": true
   },
   "source": [
    "## Basemodel"
   ]
  },
  {
   "cell_type": "code",
   "execution_count": 27,
   "metadata": {
    "ExecuteTime": {
     "end_time": "2022-11-06T22:43:07.783981Z",
     "start_time": "2022-11-06T22:43:07.513213Z"
    },
    "colab": {
     "base_uri": "https://localhost:8080/"
    },
    "hidden": true,
    "id": "Q8sVpHNoocgA",
    "outputId": "f72cf20f-0877-4be9-8b6a-789086928b6c"
   },
   "outputs": [
    {
     "name": "stdout",
     "output_type": "stream",
     "text": [
      "CRNN(\n",
      "  (conv): Sequential(\n",
      "    (0): Conv2d(1, 8, kernel_size=(5, 20), stride=(2, 8))\n",
      "    (1): Flatten(start_dim=1, end_dim=2)\n",
      "  )\n",
      "  (gru): GRU(144, 32, num_layers=2, batch_first=True)\n",
      "  (attention): Attention(\n",
      "    (energy): Sequential(\n",
      "      (0): Linear(in_features=32, out_features=32, bias=True)\n",
      "      (1): Tanh()\n",
      "      (2): Linear(in_features=32, out_features=1, bias=True)\n",
      "    )\n",
      "  )\n",
      "  (classifier): Linear(in_features=32, out_features=2, bias=True)\n",
      ")\n"
     ]
    }
   ],
   "source": [
    "history = defaultdict(list)\n",
    "\n",
    "config = BaseConfig(hidden_size=32)\n",
    "model = CRNN(config).to(config.device)\n",
    "\n",
    "print(model)\n",
    "\n",
    "opt = torch.optim.Adam(\n",
    "    model.parameters(),\n",
    "    lr=config.learning_rate,\n",
    "    weight_decay=config.weight_decay\n",
    ")"
   ]
  },
  {
   "cell_type": "code",
   "execution_count": 28,
   "metadata": {
    "ExecuteTime": {
     "end_time": "2022-11-06T22:43:07.863250Z",
     "start_time": "2022-11-06T22:43:07.858698Z"
    },
    "colab": {
     "base_uri": "https://localhost:8080/"
    },
    "hidden": true,
    "id": "zedXm9dmINAE",
    "outputId": "35174419-43cb-4690-fa8a-773abca4f9cf"
   },
   "outputs": [
    {
     "data": {
      "text/plain": [
       "25387"
      ]
     },
     "execution_count": 28,
     "metadata": {},
     "output_type": "execute_result"
    }
   ],
   "source": [
    "sum([p.numel() for p in model.parameters()])"
   ]
  },
  {
   "cell_type": "code",
   "execution_count": 29,
   "metadata": {
    "ExecuteTime": {
     "end_time": "2022-11-06T22:43:11.214077Z",
     "start_time": "2022-11-06T22:43:07.865114Z"
    },
    "colab": {
     "base_uri": "https://localhost:8080/",
     "height": 297
    },
    "hidden": true,
    "id": "32oooz4lqUYo",
    "outputId": "ae6ad76d-c127-4438-a2a5-7806838dcb37",
    "scrolled": false
   },
   "outputs": [
    {
     "name": "stderr",
     "output_type": "stream",
     "text": [
      " 12%|█████████████▉                                                                                                          | 47/405 [00:02<00:19, 18.68it/s]\n"
     ]
    },
    {
     "ename": "KeyboardInterrupt",
     "evalue": "",
     "output_type": "error",
     "traceback": [
      "\u001b[0;31m---------------------------------------------------------------------------\u001b[0m",
      "\u001b[0;31mKeyboardInterrupt\u001b[0m                         Traceback (most recent call last)",
      "Cell \u001b[0;32mIn [29], line 5\u001b[0m\n\u001b[1;32m      1\u001b[0m \u001b[38;5;66;03m# TRAIN\u001b[39;00m\n\u001b[1;32m      3\u001b[0m \u001b[38;5;28;01mfor\u001b[39;00m n \u001b[38;5;129;01min\u001b[39;00m \u001b[38;5;28mrange\u001b[39m(BaseConfig\u001b[38;5;241m.\u001b[39mnum_epochs):\n\u001b[0;32m----> 5\u001b[0m     \u001b[43mtrain_epoch\u001b[49m\u001b[43m(\u001b[49m\u001b[43mmodel\u001b[49m\u001b[43m,\u001b[49m\u001b[43m \u001b[49m\u001b[43mopt\u001b[49m\u001b[43m,\u001b[49m\u001b[43m \u001b[49m\u001b[43mtrain_loader\u001b[49m\u001b[43m,\u001b[49m\n\u001b[1;32m      6\u001b[0m \u001b[43m                \u001b[49m\u001b[43mmelspec_train\u001b[49m\u001b[43m,\u001b[49m\u001b[43m \u001b[49m\u001b[43mconfig\u001b[49m\u001b[38;5;241;43m.\u001b[39;49m\u001b[43mdevice\u001b[49m\u001b[43m)\u001b[49m\n\u001b[1;32m      8\u001b[0m     au_fa_fr \u001b[38;5;241m=\u001b[39m validation(model, val_loader,\n\u001b[1;32m      9\u001b[0m                           melspec_val, config\u001b[38;5;241m.\u001b[39mdevice)\n\u001b[1;32m     10\u001b[0m     history[\u001b[38;5;124m'\u001b[39m\u001b[38;5;124mval_metric\u001b[39m\u001b[38;5;124m'\u001b[39m]\u001b[38;5;241m.\u001b[39mappend(au_fa_fr)\n",
      "Cell \u001b[0;32mIn [22], line 3\u001b[0m, in \u001b[0;36mtrain_epoch\u001b[0;34m(model, opt, loader, log_melspec, device)\u001b[0m\n\u001b[1;32m      1\u001b[0m \u001b[38;5;28;01mdef\u001b[39;00m \u001b[38;5;21mtrain_epoch\u001b[39m(model, opt, loader, log_melspec, device):\n\u001b[1;32m      2\u001b[0m     model\u001b[38;5;241m.\u001b[39mtrain()\n\u001b[0;32m----> 3\u001b[0m     \u001b[38;5;28;01mfor\u001b[39;00m i, (batch, labels) \u001b[38;5;129;01min\u001b[39;00m tqdm(\u001b[38;5;28menumerate\u001b[39m(loader), total\u001b[38;5;241m=\u001b[39m\u001b[38;5;28mlen\u001b[39m(loader)):\n\u001b[1;32m      4\u001b[0m         batch, labels \u001b[38;5;241m=\u001b[39m batch\u001b[38;5;241m.\u001b[39mto(device), labels\u001b[38;5;241m.\u001b[39mto(device)\n\u001b[1;32m      6\u001b[0m         batch \u001b[38;5;241m=\u001b[39m log_melspec(batch)\n",
      "File \u001b[0;32m~/anaconda3/envs/dla-kws/lib/python3.9/site-packages/tqdm/std.py:1195\u001b[0m, in \u001b[0;36mtqdm.__iter__\u001b[0;34m(self)\u001b[0m\n\u001b[1;32m   1192\u001b[0m time \u001b[38;5;241m=\u001b[39m \u001b[38;5;28mself\u001b[39m\u001b[38;5;241m.\u001b[39m_time\n\u001b[1;32m   1194\u001b[0m \u001b[38;5;28;01mtry\u001b[39;00m:\n\u001b[0;32m-> 1195\u001b[0m     \u001b[38;5;28;01mfor\u001b[39;00m obj \u001b[38;5;129;01min\u001b[39;00m iterable:\n\u001b[1;32m   1196\u001b[0m         \u001b[38;5;28;01myield\u001b[39;00m obj\n\u001b[1;32m   1197\u001b[0m         \u001b[38;5;66;03m# Update and possibly print the progressbar.\u001b[39;00m\n\u001b[1;32m   1198\u001b[0m         \u001b[38;5;66;03m# Note: does not call self.update(1) for speed optimisation.\u001b[39;00m\n",
      "File \u001b[0;32m~/anaconda3/envs/dla-kws/lib/python3.9/site-packages/torch/utils/data/dataloader.py:681\u001b[0m, in \u001b[0;36m_BaseDataLoaderIter.__next__\u001b[0;34m(self)\u001b[0m\n\u001b[1;32m    678\u001b[0m \u001b[38;5;28;01mif\u001b[39;00m \u001b[38;5;28mself\u001b[39m\u001b[38;5;241m.\u001b[39m_sampler_iter \u001b[38;5;129;01mis\u001b[39;00m \u001b[38;5;28;01mNone\u001b[39;00m:\n\u001b[1;32m    679\u001b[0m     \u001b[38;5;66;03m# TODO(https://github.com/pytorch/pytorch/issues/76750)\u001b[39;00m\n\u001b[1;32m    680\u001b[0m     \u001b[38;5;28mself\u001b[39m\u001b[38;5;241m.\u001b[39m_reset()  \u001b[38;5;66;03m# type: ignore[call-arg]\u001b[39;00m\n\u001b[0;32m--> 681\u001b[0m data \u001b[38;5;241m=\u001b[39m \u001b[38;5;28;43mself\u001b[39;49m\u001b[38;5;241;43m.\u001b[39;49m\u001b[43m_next_data\u001b[49m\u001b[43m(\u001b[49m\u001b[43m)\u001b[49m\n\u001b[1;32m    682\u001b[0m \u001b[38;5;28mself\u001b[39m\u001b[38;5;241m.\u001b[39m_num_yielded \u001b[38;5;241m+\u001b[39m\u001b[38;5;241m=\u001b[39m \u001b[38;5;241m1\u001b[39m\n\u001b[1;32m    683\u001b[0m \u001b[38;5;28;01mif\u001b[39;00m \u001b[38;5;28mself\u001b[39m\u001b[38;5;241m.\u001b[39m_dataset_kind \u001b[38;5;241m==\u001b[39m _DatasetKind\u001b[38;5;241m.\u001b[39mIterable \u001b[38;5;129;01mand\u001b[39;00m \\\n\u001b[1;32m    684\u001b[0m         \u001b[38;5;28mself\u001b[39m\u001b[38;5;241m.\u001b[39m_IterableDataset_len_called \u001b[38;5;129;01mis\u001b[39;00m \u001b[38;5;129;01mnot\u001b[39;00m \u001b[38;5;28;01mNone\u001b[39;00m \u001b[38;5;129;01mand\u001b[39;00m \\\n\u001b[1;32m    685\u001b[0m         \u001b[38;5;28mself\u001b[39m\u001b[38;5;241m.\u001b[39m_num_yielded \u001b[38;5;241m>\u001b[39m \u001b[38;5;28mself\u001b[39m\u001b[38;5;241m.\u001b[39m_IterableDataset_len_called:\n",
      "File \u001b[0;32m~/anaconda3/envs/dla-kws/lib/python3.9/site-packages/torch/utils/data/dataloader.py:1359\u001b[0m, in \u001b[0;36m_MultiProcessingDataLoaderIter._next_data\u001b[0;34m(self)\u001b[0m\n\u001b[1;32m   1356\u001b[0m     \u001b[38;5;28;01mreturn\u001b[39;00m \u001b[38;5;28mself\u001b[39m\u001b[38;5;241m.\u001b[39m_process_data(data)\n\u001b[1;32m   1358\u001b[0m \u001b[38;5;28;01massert\u001b[39;00m \u001b[38;5;129;01mnot\u001b[39;00m \u001b[38;5;28mself\u001b[39m\u001b[38;5;241m.\u001b[39m_shutdown \u001b[38;5;129;01mand\u001b[39;00m \u001b[38;5;28mself\u001b[39m\u001b[38;5;241m.\u001b[39m_tasks_outstanding \u001b[38;5;241m>\u001b[39m \u001b[38;5;241m0\u001b[39m\n\u001b[0;32m-> 1359\u001b[0m idx, data \u001b[38;5;241m=\u001b[39m \u001b[38;5;28;43mself\u001b[39;49m\u001b[38;5;241;43m.\u001b[39;49m\u001b[43m_get_data\u001b[49m\u001b[43m(\u001b[49m\u001b[43m)\u001b[49m\n\u001b[1;32m   1360\u001b[0m \u001b[38;5;28mself\u001b[39m\u001b[38;5;241m.\u001b[39m_tasks_outstanding \u001b[38;5;241m-\u001b[39m\u001b[38;5;241m=\u001b[39m \u001b[38;5;241m1\u001b[39m\n\u001b[1;32m   1361\u001b[0m \u001b[38;5;28;01mif\u001b[39;00m \u001b[38;5;28mself\u001b[39m\u001b[38;5;241m.\u001b[39m_dataset_kind \u001b[38;5;241m==\u001b[39m _DatasetKind\u001b[38;5;241m.\u001b[39mIterable:\n\u001b[1;32m   1362\u001b[0m     \u001b[38;5;66;03m# Check for _IterableDatasetStopIteration\u001b[39;00m\n",
      "File \u001b[0;32m~/anaconda3/envs/dla-kws/lib/python3.9/site-packages/torch/utils/data/dataloader.py:1315\u001b[0m, in \u001b[0;36m_MultiProcessingDataLoaderIter._get_data\u001b[0;34m(self)\u001b[0m\n\u001b[1;32m   1313\u001b[0m \u001b[38;5;28;01melif\u001b[39;00m \u001b[38;5;28mself\u001b[39m\u001b[38;5;241m.\u001b[39m_pin_memory:\n\u001b[1;32m   1314\u001b[0m     \u001b[38;5;28;01mwhile\u001b[39;00m \u001b[38;5;28mself\u001b[39m\u001b[38;5;241m.\u001b[39m_pin_memory_thread\u001b[38;5;241m.\u001b[39mis_alive():\n\u001b[0;32m-> 1315\u001b[0m         success, data \u001b[38;5;241m=\u001b[39m \u001b[38;5;28;43mself\u001b[39;49m\u001b[38;5;241;43m.\u001b[39;49m\u001b[43m_try_get_data\u001b[49m\u001b[43m(\u001b[49m\u001b[43m)\u001b[49m\n\u001b[1;32m   1316\u001b[0m         \u001b[38;5;28;01mif\u001b[39;00m success:\n\u001b[1;32m   1317\u001b[0m             \u001b[38;5;28;01mreturn\u001b[39;00m data\n",
      "File \u001b[0;32m~/anaconda3/envs/dla-kws/lib/python3.9/site-packages/torch/utils/data/dataloader.py:1163\u001b[0m, in \u001b[0;36m_MultiProcessingDataLoaderIter._try_get_data\u001b[0;34m(self, timeout)\u001b[0m\n\u001b[1;32m   1150\u001b[0m \u001b[38;5;28;01mdef\u001b[39;00m \u001b[38;5;21m_try_get_data\u001b[39m(\u001b[38;5;28mself\u001b[39m, timeout\u001b[38;5;241m=\u001b[39m_utils\u001b[38;5;241m.\u001b[39mMP_STATUS_CHECK_INTERVAL):\n\u001b[1;32m   1151\u001b[0m     \u001b[38;5;66;03m# Tries to fetch data from `self._data_queue` once for a given timeout.\u001b[39;00m\n\u001b[1;32m   1152\u001b[0m     \u001b[38;5;66;03m# This can also be used as inner loop of fetching without timeout, with\u001b[39;00m\n\u001b[0;32m   (...)\u001b[0m\n\u001b[1;32m   1160\u001b[0m     \u001b[38;5;66;03m# Returns a 2-tuple:\u001b[39;00m\n\u001b[1;32m   1161\u001b[0m     \u001b[38;5;66;03m#   (bool: whether successfully get data, any: data if successful else None)\u001b[39;00m\n\u001b[1;32m   1162\u001b[0m     \u001b[38;5;28;01mtry\u001b[39;00m:\n\u001b[0;32m-> 1163\u001b[0m         data \u001b[38;5;241m=\u001b[39m \u001b[38;5;28;43mself\u001b[39;49m\u001b[38;5;241;43m.\u001b[39;49m\u001b[43m_data_queue\u001b[49m\u001b[38;5;241;43m.\u001b[39;49m\u001b[43mget\u001b[49m\u001b[43m(\u001b[49m\u001b[43mtimeout\u001b[49m\u001b[38;5;241;43m=\u001b[39;49m\u001b[43mtimeout\u001b[49m\u001b[43m)\u001b[49m\n\u001b[1;32m   1164\u001b[0m         \u001b[38;5;28;01mreturn\u001b[39;00m (\u001b[38;5;28;01mTrue\u001b[39;00m, data)\n\u001b[1;32m   1165\u001b[0m     \u001b[38;5;28;01mexcept\u001b[39;00m \u001b[38;5;167;01mException\u001b[39;00m \u001b[38;5;28;01mas\u001b[39;00m e:\n\u001b[1;32m   1166\u001b[0m         \u001b[38;5;66;03m# At timeout and error, we manually check whether any worker has\u001b[39;00m\n\u001b[1;32m   1167\u001b[0m         \u001b[38;5;66;03m# failed. Note that this is the only mechanism for Windows to detect\u001b[39;00m\n\u001b[1;32m   1168\u001b[0m         \u001b[38;5;66;03m# worker failures.\u001b[39;00m\n",
      "File \u001b[0;32m~/anaconda3/envs/dla-kws/lib/python3.9/queue.py:180\u001b[0m, in \u001b[0;36mQueue.get\u001b[0;34m(self, block, timeout)\u001b[0m\n\u001b[1;32m    178\u001b[0m         \u001b[38;5;28;01mif\u001b[39;00m remaining \u001b[38;5;241m<\u001b[39m\u001b[38;5;241m=\u001b[39m \u001b[38;5;241m0.0\u001b[39m:\n\u001b[1;32m    179\u001b[0m             \u001b[38;5;28;01mraise\u001b[39;00m Empty\n\u001b[0;32m--> 180\u001b[0m         \u001b[38;5;28;43mself\u001b[39;49m\u001b[38;5;241;43m.\u001b[39;49m\u001b[43mnot_empty\u001b[49m\u001b[38;5;241;43m.\u001b[39;49m\u001b[43mwait\u001b[49m\u001b[43m(\u001b[49m\u001b[43mremaining\u001b[49m\u001b[43m)\u001b[49m\n\u001b[1;32m    181\u001b[0m item \u001b[38;5;241m=\u001b[39m \u001b[38;5;28mself\u001b[39m\u001b[38;5;241m.\u001b[39m_get()\n\u001b[1;32m    182\u001b[0m \u001b[38;5;28mself\u001b[39m\u001b[38;5;241m.\u001b[39mnot_full\u001b[38;5;241m.\u001b[39mnotify()\n",
      "File \u001b[0;32m~/anaconda3/envs/dla-kws/lib/python3.9/threading.py:316\u001b[0m, in \u001b[0;36mCondition.wait\u001b[0;34m(self, timeout)\u001b[0m\n\u001b[1;32m    314\u001b[0m \u001b[38;5;28;01melse\u001b[39;00m:\n\u001b[1;32m    315\u001b[0m     \u001b[38;5;28;01mif\u001b[39;00m timeout \u001b[38;5;241m>\u001b[39m \u001b[38;5;241m0\u001b[39m:\n\u001b[0;32m--> 316\u001b[0m         gotit \u001b[38;5;241m=\u001b[39m \u001b[43mwaiter\u001b[49m\u001b[38;5;241;43m.\u001b[39;49m\u001b[43macquire\u001b[49m\u001b[43m(\u001b[49m\u001b[38;5;28;43;01mTrue\u001b[39;49;00m\u001b[43m,\u001b[49m\u001b[43m \u001b[49m\u001b[43mtimeout\u001b[49m\u001b[43m)\u001b[49m\n\u001b[1;32m    317\u001b[0m     \u001b[38;5;28;01melse\u001b[39;00m:\n\u001b[1;32m    318\u001b[0m         gotit \u001b[38;5;241m=\u001b[39m waiter\u001b[38;5;241m.\u001b[39macquire(\u001b[38;5;28;01mFalse\u001b[39;00m)\n",
      "\u001b[0;31mKeyboardInterrupt\u001b[0m: "
     ]
    }
   ],
   "source": [
    "# TRAIN\n",
    "\n",
    "for n in range(BaseConfig.num_epochs):\n",
    "\n",
    "    train_epoch(model, opt, train_loader,\n",
    "                melspec_train, config.device)\n",
    "\n",
    "    au_fa_fr = validation(model, val_loader,\n",
    "                          melspec_val, config.device)\n",
    "    history['val_metric'].append(au_fa_fr)\n",
    "\n",
    "    clear_output()\n",
    "    plt.plot(history['val_metric'])\n",
    "    plt.ylabel('Metric')\n",
    "    plt.xlabel('Epoch')\n",
    "    plt.grid()\n",
    "    plt.show()\n",
    "\n",
    "    print('END OF EPOCH', n)"
   ]
  },
  {
   "cell_type": "code",
   "execution_count": 28,
   "metadata": {
    "ExecuteTime": {
     "end_time": "2022-11-04T22:22:39.015011Z",
     "start_time": "2022-11-04T22:22:39.007588Z"
    },
    "colab": {
     "base_uri": "https://localhost:8080/"
    },
    "hidden": true,
    "id": "WBkTUHZcVugz",
    "outputId": "94e0c5a2-d1ed-4f7b-8691-069bb2aabfd9"
   },
   "outputs": [
    {
     "data": {
      "text/plain": [
       "defaultdict(list,\n",
       "            {'val_metric': [0.000878691543582268,\n",
       "              0.0005494858137221071,\n",
       "              0.0003482899470245882,\n",
       "              0.0002472295287382919,\n",
       "              0.00020715744673105948,\n",
       "              0.0002004618583450409,\n",
       "              0.00015874273320541895,\n",
       "              0.0001486754804360666,\n",
       "              0.00012938239910630008,\n",
       "              0.0001367761905593099,\n",
       "              0.00013489641307125653,\n",
       "              0.00013697908717706802,\n",
       "              0.00010787535762393739,\n",
       "              0.00010610299599234423,\n",
       "              0.00010385323055426135,\n",
       "              0.00010297003351225532,\n",
       "              0.00010408596490992509,\n",
       "              9.067688549514459e-05,\n",
       "              0.00010223602515977735,\n",
       "              9.161379046538068e-05]})"
      ]
     },
     "execution_count": 28,
     "metadata": {},
     "output_type": "execute_result"
    }
   ],
   "source": [
    "history"
   ]
  },
  {
   "cell_type": "code",
   "execution_count": 28,
   "metadata": {
    "hidden": true
   },
   "outputs": [],
   "source": [
    "torch.save(model.state_dict(), 'base_model.pth')"
   ]
  },
  {
   "cell_type": "code",
   "execution_count": null,
   "metadata": {
    "hidden": true
   },
   "outputs": [],
   "source": []
  },
  {
   "cell_type": "markdown",
   "metadata": {
    "heading_collapsed": true
   },
   "source": [
    "## Knowledge Distillation"
   ]
  },
  {
   "cell_type": "code",
   "execution_count": 30,
   "metadata": {
    "ExecuteTime": {
     "end_time": "2022-11-06T22:43:14.498561Z",
     "start_time": "2022-11-06T22:43:14.482580Z"
    },
    "hidden": true
   },
   "outputs": [],
   "source": [
    "# https://github.com/szagoruyko/attention-transfer/blob/master/utils.py#L10\n",
    "def distillation_loss(student_scores, teacher_scores, labels, T, alpha):\n",
    "    p = F.log_softmax(student_scores/T, dim=-1)\n",
    "    q = F.softmax(teacher_scores/T, dim=-1)\n",
    "    l_kl = F.kl_div(p, q, size_average=False) * (T**2)\n",
    "    l_ce = F.cross_entropy(student_scores, labels)\n",
    "    return l_kl * alpha + l_ce * (1. - alpha)\n",
    "\n",
    "def train_epoch_distil(st_model, teacher_model, opt, loader, log_melspec, device, alpha=0.1, temp=5):\n",
    "    st_model.train()\n",
    "    teacher_model.eval()\n",
    "    \n",
    "    st_model.to(device)\n",
    "    teacher_model.to(device)\n",
    "    \n",
    "    for i, (batch, labels) in tqdm(enumerate(loader), total=len(loader)):\n",
    "        batch, labels = batch.to(device), labels.to(device)\n",
    "        batch = log_melspec(batch)\n",
    "\n",
    "        opt.zero_grad()\n",
    "\n",
    "        # run model # with autocast():\n",
    "        st_logits = st_model(batch)\n",
    "\n",
    "        with torch.no_grad():\n",
    "            te_logits = teacher_model(batch)\n",
    "\n",
    "        # we need probabilities so we use softmax & CE separately\n",
    "        loss = distillation_loss(st_logits, te_logits, labels, T=temp, alpha=alpha)\n",
    "\n",
    "        loss.backward()\n",
    "        torch.nn.utils.clip_grad_norm_(st_model.parameters(), 5)\n",
    "\n",
    "        opt.step()\n",
    "        scheduler.step()\n",
    "        # logging\n",
    "        probs = F.softmax(st_logits, dim=-1)\n",
    "        argmax_probs = torch.argmax(probs, dim=-1)\n",
    "        FA, FR = count_FA_FR(argmax_probs, labels)\n",
    "        acc = torch.sum(argmax_probs == labels) / torch.numel(argmax_probs)\n",
    "\n",
    "    return acc\n",
    "\n",
    "def train_distillation(st_model, te_model, opt, config, alpha, temp):\n",
    "    history = defaultdict(list)\n",
    "    for n in range(config.num_epochs):\n",
    "\n",
    "        train_epoch_distil(st_model, te_model, opt, train_loader,\n",
    "                    melspec_train, config.device, alpha=alpha, temp=temp)\n",
    "\n",
    "        au_fa_fr = validation(st_model, val_loader,\n",
    "                            melspec_val, config.device)\n",
    "        history['val_metric'].append(au_fa_fr)\n",
    "\n",
    "        clear_output()\n",
    "        plt.plot(history['val_metric'])\n",
    "        plt.ylabel('Metric')\n",
    "        plt.xlabel('Epoch')\n",
    "        plt.grid()\n",
    "        plt.show()\n",
    "        \n",
    "        print('END OF EPOCH', n)\n",
    "        print('Val_metric', au_fa_fr)\n",
    "\n",
    "    return history"
   ]
  },
  {
   "cell_type": "code",
   "execution_count": 31,
   "metadata": {
    "ExecuteTime": {
     "end_time": "2022-11-06T22:43:15.027054Z",
     "start_time": "2022-11-06T22:43:15.015796Z"
    },
    "hidden": true
   },
   "outputs": [],
   "source": [
    "import utils\n",
    "path = '/home/dpozdeev/dla-kws/save/Base/1105_013259/Base_sched=False.tar'\n",
    "base_model = utils.load_model(path)"
   ]
  },
  {
   "cell_type": "code",
   "execution_count": 32,
   "metadata": {
    "ExecuteTime": {
     "end_time": "2022-11-06T22:43:19.512020Z",
     "start_time": "2022-11-06T22:43:15.475398Z"
    },
    "hidden": true
   },
   "outputs": [
    {
     "name": "stderr",
     "output_type": "stream",
     "text": [
      "102it [00:03, 27.01it/s]\n"
     ]
    },
    {
     "ename": "KeyboardInterrupt",
     "evalue": "",
     "output_type": "error",
     "traceback": [
      "\u001b[0;31m---------------------------------------------------------------------------\u001b[0m",
      "\u001b[0;31mKeyboardInterrupt\u001b[0m                         Traceback (most recent call last)",
      "Cell \u001b[0;32mIn [32], line 7\u001b[0m\n\u001b[1;32m      4\u001b[0m model \u001b[38;5;241m=\u001b[39m utils\u001b[38;5;241m.\u001b[39mload_model(best_path)\n\u001b[1;32m      5\u001b[0m model\u001b[38;5;241m.\u001b[39mto(\u001b[38;5;124m'\u001b[39m\u001b[38;5;124mcuda\u001b[39m\u001b[38;5;124m'\u001b[39m)\n\u001b[0;32m----> 7\u001b[0m \u001b[43mvalidation\u001b[49m\u001b[43m(\u001b[49m\u001b[43mmodel\u001b[49m\u001b[43m,\u001b[49m\u001b[43m \u001b[49m\u001b[43mval_loader\u001b[49m\u001b[43m,\u001b[49m\u001b[43m \u001b[49m\u001b[43mmelspec_val\u001b[49m\u001b[43m,\u001b[49m\u001b[43m \u001b[49m\u001b[43mmodel\u001b[49m\u001b[38;5;241;43m.\u001b[39;49m\u001b[43mconfig\u001b[49m\u001b[38;5;241;43m.\u001b[39;49m\u001b[43mdevice\u001b[49m\u001b[43m)\u001b[49m\n",
      "File \u001b[0;32m~/anaconda3/envs/dla-kws/lib/python3.9/site-packages/torch/autograd/grad_mode.py:27\u001b[0m, in \u001b[0;36m_DecoratorContextManager.__call__.<locals>.decorate_context\u001b[0;34m(*args, **kwargs)\u001b[0m\n\u001b[1;32m     24\u001b[0m \u001b[38;5;129m@functools\u001b[39m\u001b[38;5;241m.\u001b[39mwraps(func)\n\u001b[1;32m     25\u001b[0m \u001b[38;5;28;01mdef\u001b[39;00m \u001b[38;5;21mdecorate_context\u001b[39m(\u001b[38;5;241m*\u001b[39margs, \u001b[38;5;241m*\u001b[39m\u001b[38;5;241m*\u001b[39mkwargs):\n\u001b[1;32m     26\u001b[0m     \u001b[38;5;28;01mwith\u001b[39;00m \u001b[38;5;28mself\u001b[39m\u001b[38;5;241m.\u001b[39mclone():\n\u001b[0;32m---> 27\u001b[0m         \u001b[38;5;28;01mreturn\u001b[39;00m \u001b[43mfunc\u001b[49m\u001b[43m(\u001b[49m\u001b[38;5;241;43m*\u001b[39;49m\u001b[43margs\u001b[49m\u001b[43m,\u001b[49m\u001b[43m \u001b[49m\u001b[38;5;241;43m*\u001b[39;49m\u001b[38;5;241;43m*\u001b[39;49m\u001b[43mkwargs\u001b[49m\u001b[43m)\u001b[49m\n",
      "Cell \u001b[0;32mIn [23], line 30\u001b[0m, in \u001b[0;36mvalidation\u001b[0;34m(model, loader, log_melspec, device)\u001b[0m\n\u001b[1;32m     27\u001b[0m     FRs\u001b[38;5;241m.\u001b[39mappend(FR)\n\u001b[1;32m     29\u001b[0m \u001b[38;5;66;03m# area under FA/FR curve for whole loader\u001b[39;00m\n\u001b[0;32m---> 30\u001b[0m au_fa_fr \u001b[38;5;241m=\u001b[39m \u001b[43mget_au_fa_fr\u001b[49m\u001b[43m(\u001b[49m\u001b[43mtorch\u001b[49m\u001b[38;5;241;43m.\u001b[39;49m\u001b[43mcat\u001b[49m\u001b[43m(\u001b[49m\u001b[43mall_probs\u001b[49m\u001b[43m,\u001b[49m\u001b[43m \u001b[49m\u001b[43mdim\u001b[49m\u001b[38;5;241;43m=\u001b[39;49m\u001b[38;5;241;43m0\u001b[39;49m\u001b[43m)\u001b[49m\u001b[38;5;241;43m.\u001b[39;49m\u001b[43mcpu\u001b[49m\u001b[43m(\u001b[49m\u001b[43m)\u001b[49m\u001b[43m,\u001b[49m\u001b[43m \u001b[49m\u001b[43mall_labels\u001b[49m\u001b[43m)\u001b[49m\n\u001b[1;32m     31\u001b[0m \u001b[38;5;28;01mreturn\u001b[39;00m au_fa_fr\n",
      "Cell \u001b[0;32mIn [20], line 7\u001b[0m, in \u001b[0;36mget_au_fa_fr\u001b[0;34m(probs, labels)\u001b[0m\n\u001b[1;32m      4\u001b[0m labels \u001b[38;5;241m=\u001b[39m torch\u001b[38;5;241m.\u001b[39mcat(labels, dim\u001b[38;5;241m=\u001b[39m\u001b[38;5;241m0\u001b[39m)\n\u001b[1;32m      6\u001b[0m FAs, FRs \u001b[38;5;241m=\u001b[39m [], []\n\u001b[0;32m----> 7\u001b[0m \u001b[38;5;28;01mfor\u001b[39;00m prob \u001b[38;5;129;01min\u001b[39;00m sorted_probs:\n\u001b[1;32m      8\u001b[0m     preds \u001b[38;5;241m=\u001b[39m (probs \u001b[38;5;241m>\u001b[39m\u001b[38;5;241m=\u001b[39m prob) \u001b[38;5;241m*\u001b[39m \u001b[38;5;241m1\u001b[39m\n\u001b[1;32m      9\u001b[0m     FA, FR \u001b[38;5;241m=\u001b[39m count_FA_FR(preds, labels)        \n",
      "File \u001b[0;32m~/anaconda3/envs/dla-kws/lib/python3.9/site-packages/torch/_tensor.py:729\u001b[0m, in \u001b[0;36mTensor.__iter__\u001b[0;34m(self)\u001b[0m\n\u001b[1;32m    724\u001b[0m \u001b[38;5;28;01mif\u001b[39;00m torch\u001b[38;5;241m.\u001b[39m_C\u001b[38;5;241m.\u001b[39m_get_tracing_state():\n\u001b[1;32m    725\u001b[0m     warnings\u001b[38;5;241m.\u001b[39mwarn(\u001b[38;5;124m'\u001b[39m\u001b[38;5;124mIterating over a tensor might cause the trace to be incorrect. \u001b[39m\u001b[38;5;124m'\u001b[39m\n\u001b[1;32m    726\u001b[0m                   \u001b[38;5;124m'\u001b[39m\u001b[38;5;124mPassing a tensor of different shape won\u001b[39m\u001b[38;5;130;01m\\'\u001b[39;00m\u001b[38;5;124mt change the number of \u001b[39m\u001b[38;5;124m'\u001b[39m\n\u001b[1;32m    727\u001b[0m                   \u001b[38;5;124m'\u001b[39m\u001b[38;5;124miterations executed (and might lead to errors or silently give \u001b[39m\u001b[38;5;124m'\u001b[39m\n\u001b[1;32m    728\u001b[0m                   \u001b[38;5;124m'\u001b[39m\u001b[38;5;124mincorrect results).\u001b[39m\u001b[38;5;124m'\u001b[39m, category\u001b[38;5;241m=\u001b[39mtorch\u001b[38;5;241m.\u001b[39mjit\u001b[38;5;241m.\u001b[39mTracerWarning, stacklevel\u001b[38;5;241m=\u001b[39m\u001b[38;5;241m2\u001b[39m)\n\u001b[0;32m--> 729\u001b[0m \u001b[38;5;28;01mreturn\u001b[39;00m \u001b[38;5;28miter\u001b[39m(\u001b[38;5;28;43mself\u001b[39;49m\u001b[38;5;241;43m.\u001b[39;49m\u001b[43munbind\u001b[49m\u001b[43m(\u001b[49m\u001b[38;5;241;43m0\u001b[39;49m\u001b[43m)\u001b[49m)\n",
      "\u001b[0;31mKeyboardInterrupt\u001b[0m: "
     ]
    }
   ],
   "source": [
    "# import utils\n",
    "\n",
    "# best_path = '/home/dpozdeev/dla-kws/save/C_Dist/1106_114532/C_Dist_a=0.9_T=20_sched=False.tar'\n",
    "# model = utils.load_model(best_path)\n",
    "# model.to('cuda')\n",
    "\n",
    "# validation(model, val_loader, melspec_val, model.config.device)"
   ]
  },
  {
   "cell_type": "code",
   "execution_count": 33,
   "metadata": {
    "ExecuteTime": {
     "end_time": "2022-11-06T22:43:22.645396Z",
     "start_time": "2022-11-06T22:43:22.628231Z"
    },
    "hidden": true
   },
   "outputs": [
    {
     "name": "stdout",
     "output_type": "stream",
     "text": [
      "[INFO] Register count_convNd() for <class 'torch.nn.modules.conv.Conv2d'>.\n",
      "[INFO] Register zero_ops() for <class 'torch.nn.modules.container.Sequential'>.\n",
      "[INFO] Register count_gru() for <class 'torch.nn.modules.rnn.GRU'>.\n",
      "[INFO] Register count_linear() for <class 'torch.nn.modules.linear.Linear'>.\n"
     ]
    }
   ],
   "source": [
    "base_model.to('cuda')\n",
    "base_mbs = Metrics.get_size_in_megabytes(base_model)\n",
    "base_macs = Metrics.get_macs(base_model)"
   ]
  },
  {
   "cell_type": "code",
   "execution_count": 34,
   "metadata": {
    "ExecuteTime": {
     "end_time": "2022-11-06T22:43:24.229920Z",
     "start_time": "2022-11-06T22:43:24.224253Z"
    },
    "hidden": true
   },
   "outputs": [],
   "source": [
    "class Half(nn.Module):\n",
    "    def __init__(self, model):\n",
    "        super().__init__()\n",
    "        self.config = model.config\n",
    "        self.model = model.half()\n",
    "        \n",
    "    def forward(self, x):\n",
    "        return self.model(x.half())"
   ]
  },
  {
   "cell_type": "code",
   "execution_count": 35,
   "metadata": {
    "ExecuteTime": {
     "end_time": "2022-11-06T22:43:25.030315Z",
     "start_time": "2022-11-06T22:43:24.994672Z"
    },
    "hidden": true
   },
   "outputs": [],
   "source": [
    "%load_ext autoreload\n",
    "%autoreload 2\n"
   ]
  },
  {
   "cell_type": "code",
   "execution_count": 36,
   "metadata": {
    "ExecuteTime": {
     "end_time": "2022-11-06T22:44:13.727230Z",
     "start_time": "2022-11-06T22:43:25.744738Z"
    },
    "hidden": true
   },
   "outputs": [
    {
     "name": "stderr",
     "output_type": "stream",
     "text": [
      "102it [00:03, 28.88it/s]\n"
     ]
    },
    {
     "name": "stdout",
     "output_type": "stream",
     "text": [
      "[INFO] Register count_convNd() for <class 'torch.nn.modules.conv.Conv2d'>.\n",
      "[INFO] Register zero_ops() for <class 'torch.nn.modules.container.Sequential'>.\n",
      "[INFO] Register count_gru() for <class 'torch.nn.modules.rnn.GRU'>.\n",
      "[INFO] Register count_linear() for <class 'torch.nn.modules.linear.Linear'>.\n"
     ]
    },
    {
     "name": "stderr",
     "output_type": "stream",
     "text": [
      "102it [00:03, 30.77it/s]\n"
     ]
    },
    {
     "name": "stdout",
     "output_type": "stream",
     "text": [
      "[INFO] Register count_convNd() for <class 'torch.nn.modules.conv.Conv2d'>.\n",
      "[INFO] Register zero_ops() for <class 'torch.nn.modules.container.Sequential'>.\n",
      "[INFO] Register count_gru() for <class 'torch.nn.modules.rnn.GRU'>.\n",
      "[INFO] Register count_linear() for <class 'torch.nn.modules.linear.Linear'>.\n"
     ]
    },
    {
     "name": "stderr",
     "output_type": "stream",
     "text": [
      "102it [00:03, 31.02it/s]\n"
     ]
    },
    {
     "name": "stdout",
     "output_type": "stream",
     "text": [
      "[INFO] Register count_convNd() for <class 'torch.nn.modules.conv.Conv2d'>.\n",
      "[INFO] Register zero_ops() for <class 'torch.nn.modules.container.Sequential'>.\n",
      "[INFO] Register count_gru() for <class 'torch.nn.modules.rnn.GRU'>.\n",
      "[INFO] Register count_linear() for <class 'torch.nn.modules.linear.Linear'>.\n"
     ]
    },
    {
     "name": "stderr",
     "output_type": "stream",
     "text": [
      "102it [00:03, 31.83it/s]\n"
     ]
    },
    {
     "name": "stdout",
     "output_type": "stream",
     "text": [
      "[INFO] Register count_convNd() for <class 'torch.nn.modules.conv.Conv2d'>.\n",
      "[INFO] Register zero_ops() for <class 'torch.nn.modules.container.Sequential'>.\n",
      "[INFO] Register count_gru() for <class 'torch.nn.modules.rnn.GRU'>.\n",
      "[INFO] Register count_linear() for <class 'torch.nn.modules.linear.Linear'>.\n"
     ]
    },
    {
     "name": "stderr",
     "output_type": "stream",
     "text": [
      "102it [00:03, 32.22it/s]\n"
     ]
    },
    {
     "name": "stdout",
     "output_type": "stream",
     "text": [
      "[INFO] Register count_avgpool() for <class 'torch.nn.modules.pooling.AvgPool2d'>.\n",
      "[INFO] Register count_convNd() for <class 'torch.nn.modules.conv.Conv2d'>.\n",
      "[INFO] Register zero_ops() for <class 'torch.nn.modules.container.Sequential'>.\n",
      "[INFO] Register count_gru() for <class 'torch.nn.modules.rnn.GRU'>.\n",
      "[INFO] Register count_linear() for <class 'torch.nn.modules.linear.Linear'>.\n"
     ]
    },
    {
     "name": "stderr",
     "output_type": "stream",
     "text": [
      "102it [00:03, 32.16it/s]\n"
     ]
    },
    {
     "name": "stdout",
     "output_type": "stream",
     "text": [
      "[INFO] Register count_avgpool() for <class 'torch.nn.modules.pooling.AvgPool2d'>.\n",
      "[INFO] Register count_convNd() for <class 'torch.nn.modules.conv.Conv2d'>.\n",
      "[INFO] Register zero_ops() for <class 'torch.nn.modules.container.Sequential'>.\n",
      "[INFO] Register count_gru() for <class 'torch.nn.modules.rnn.GRU'>.\n",
      "[INFO] Register count_linear() for <class 'torch.nn.modules.linear.Linear'>.\n"
     ]
    }
   ],
   "source": [
    "paths = [\n",
    "    ('base', '/home/dpozdeev/dla-kws/save/Base/1105_013259/Base_sched=False.tar'),\n",
    "    ('distil', '/home/dpozdeev/dla-kws/save/C_Dist/1106_114532/C_Dist_a=0.9_T=20_sched=False.tar'),\n",
    "    ('pool', '/home/dpozdeev/dla-kws/save/Dist_Pool/1106_180558/Dist_Pool_a=0.9_T=20_sched=False.tar')\n",
    "]\n",
    "\n",
    "scores = []\n",
    "macs = []\n",
    "mbs = []\n",
    "txts = []\n",
    "\n",
    "\n",
    "for name, path in paths:\n",
    "    load_func = utils.load_model if name != 'pool' else utils.load_model_pool\n",
    "    model = load_func(path).to('cuda')\n",
    "    for i in range(2):\n",
    "        if i % 2 == 1:\n",
    "            model = Half(model).to(model.config.device)\n",
    "            name += '_fp16'\n",
    "            \n",
    "        scores.append(validation(model, val_loader, melspec_val, model.config.device))\n",
    "\n",
    "        cur_macs = Metrics.get_macs(model) / base_macs\n",
    "        cur_mbs = Metrics.get_size_in_megabytes(model) / base_mbs\n",
    "\n",
    "        macs.append(cur_macs)\n",
    "        mbs.append(cur_mbs)\n",
    "        \n",
    "        txts.append(name)    "
   ]
  },
  {
   "cell_type": "code",
   "execution_count": 37,
   "metadata": {
    "ExecuteTime": {
     "end_time": "2022-11-06T22:44:13.909280Z",
     "start_time": "2022-11-06T22:44:13.891736Z"
    },
    "hidden": true
   },
   "outputs": [
    {
     "data": {
      "text/plain": [
       "[1.0,\n",
       " 1.0,\n",
       " 0.09792528918603417,\n",
       " 0.09792528918603417,\n",
       " 0.10055957939792706,\n",
       " 0.10055957939792706]"
      ]
     },
     "execution_count": 37,
     "metadata": {},
     "output_type": "execute_result"
    }
   ],
   "source": [
    "macs"
   ]
  },
  {
   "cell_type": "code",
   "execution_count": 38,
   "metadata": {
    "ExecuteTime": {
     "end_time": "2022-11-06T22:44:14.086096Z",
     "start_time": "2022-11-06T22:44:14.068955Z"
    },
    "hidden": true
   },
   "outputs": [
    {
     "data": {
      "text/plain": [
       "[3.385986497528466e-05,\n",
       " 3.383002723737905e-05,\n",
       " 4.333633053410595e-05,\n",
       " 4.342882752161334e-05,\n",
       " 5.78553737989751e-05,\n",
       " 5.77181202046093e-05]"
      ]
     },
     "execution_count": 38,
     "metadata": {},
     "output_type": "execute_result"
    }
   ],
   "source": [
    "scores "
   ]
  },
  {
   "cell_type": "code",
   "execution_count": 66,
   "metadata": {
    "ExecuteTime": {
     "end_time": "2022-11-06T23:05:56.405595Z",
     "start_time": "2022-11-06T23:05:55.781564Z"
    },
    "hidden": true
   },
   "outputs": [
    {
     "data": {
      "image/png": "[encoded data removed]",
      "text/plain": [
       "<Figure size 1400x700 with 2 Axes>"
      ]
     },
     "metadata": {},
     "output_type": "display_data"
    }
   ],
   "source": [
    "import matplotlib.pyplot as plt\n",
    "import operator\n",
    "\n",
    "def sum_tuples(a, b):\n",
    "    return tuple(map(operator.add, a, b))\n",
    "\n",
    "fig, axes = plt.subplots(ncols=2, figsize=(14, 7))\n",
    "axes[0].scatter(macs, scores)\n",
    "axes[1].scatter(mbs, scores)\n",
    "\n",
    "for i, txt in enumerate(txts):\n",
    "    coords = (-0.05, -1e-6) if 'fp16' in txt else (-0.05, 5e-7)\n",
    "    coords_1 = (macs[i], scores[i])\n",
    "    coords_2 = (mbs[i], scores[i])\n",
    "    \n",
    "    axes[0].annotate(txt, coords_1, xytext=sum_tuples(coords_1, coords), fontsize=12)\n",
    "    axes[1].annotate(txt, coords_2, xytext=sum_tuples(coords_2, coords), fontsize=12)\n",
    "    \n",
    "for ax in axes:\n",
    "    ax.grid()\n",
    "    ax.set_ylabel('Val metric', fontsize=14)\n",
    "    \n",
    "axes[0].set_title('Macs compression vs val_metric', fontsize=16)\n",
    "axes[0].set_xlabel('MACs compression')\n",
    "\n",
    "axes[1].set_title('Mbs compression vs val_metric', fontsize=16)\n",
    "axes[1].set_xlabel('MBs compression')\n",
    "\n",
    "plt.savefig('fig.png')"
   ]
  },
  {
   "cell_type": "code",
   "execution_count": 57,
   "metadata": {
    "ExecuteTime": {
     "end_time": "2022-11-06T17:35:04.619718Z",
     "start_time": "2022-11-06T17:35:04.608516Z"
    },
    "hidden": true
   },
   "outputs": [],
   "source": [
    "base_model = utils.load_model('/home/dpozdeev/dla-kws/save/Base/1105_021522/Base_sched=False.tar')"
   ]
  },
  {
   "cell_type": "code",
   "execution_count": 67,
   "metadata": {
    "ExecuteTime": {
     "end_time": "2022-11-06T17:37:49.992891Z",
     "start_time": "2022-11-06T17:37:49.974677Z"
    },
    "hidden": true
   },
   "outputs": [
    {
     "name": "stdout",
     "output_type": "stream",
     "text": [
      "torch.Size([1, 40, 201])\n",
      "[INFO] Register count_convNd() for <class 'torch.nn.modules.conv.Conv2d'>.\n",
      "[INFO] Register zero_ops() for <class 'torch.nn.modules.container.Sequential'>.\n",
      "[INFO] Register count_gru() for <class 'torch.nn.modules.rnn.GRU'>.\n",
      "[INFO] Register count_linear() for <class 'torch.nn.modules.linear.Linear'>.\n"
     ]
    },
    {
     "data": {
      "text/plain": [
       "3618432.0"
      ]
     },
     "execution_count": 67,
     "metadata": {},
     "output_type": "execute_result"
    }
   ],
   "source": [
    "test_input = melspec_val(torch.rand(size=[1, base_model.config.sample_rate * 2]).to(model.config.device))\n",
    "print(test_input.size())\n",
    "profile(base_model, test_input.unsqueeze(0))[0]  # -> (6.0 MACs, 3.0 parameters)"
   ]
  },
  {
   "cell_type": "code",
   "execution_count": null,
   "metadata": {
    "hidden": true
   },
   "outputs": [],
   "source": [
    "@torch.no_grad()\n",
    "class StreamingKWS:\n",
    "    def __init__(self, model, window_size):\n",
    "        \n",
    "        self.model = model\n",
    "        self.buffer = []\n",
    "        self.gru_outputs = []\n",
    "        self.window_size = window_size\n",
    "        \n",
    "    def __call__(self, chunk):\n",
    "        i"
   ]
  },
  {
   "cell_type": "code",
   "execution_count": 68,
   "metadata": {
    "ExecuteTime": {
     "end_time": "2022-11-06T17:38:59.932550Z",
     "start_time": "2022-11-06T17:38:59.913379Z"
    },
    "hidden": true
   },
   "outputs": [
    {
     "name": "stdout",
     "output_type": "stream",
     "text": [
      "[INFO] Register count_convNd() for <class 'torch.nn.modules.conv.Conv2d'>.\n",
      "[INFO] Register zero_ops() for <class 'torch.nn.modules.container.Sequential'>.\n",
      "[INFO] Register count_gru() for <class 'torch.nn.modules.rnn.GRU'>.\n",
      "[INFO] Register count_linear() for <class 'torch.nn.modules.linear.Linear'>.\n"
     ]
    },
    {
     "data": {
      "text/plain": [
       "3618432.0"
      ]
     },
     "execution_count": 68,
     "metadata": {},
     "output_type": "execute_result"
    }
   ],
   "source": [
    "x = torch.rand([1, 40, 201]).to('cuda')\n",
    "profile(base_model, (x, ))[0]"
   ]
  },
  {
   "cell_type": "code",
   "execution_count": 33,
   "metadata": {
    "ExecuteTime": {
     "end_time": "2022-11-06T17:18:47.945219Z",
     "start_time": "2022-11-06T17:18:47.941874Z"
    },
    "hidden": true
   },
   "outputs": [],
   "source": [
    "config = BaseConfig()"
   ]
  },
  {
   "cell_type": "code",
   "execution_count": 43,
   "metadata": {
    "ExecuteTime": {
     "end_time": "2022-11-06T17:21:47.890737Z",
     "start_time": "2022-11-06T17:21:47.882694Z"
    },
    "hidden": true
   },
   "outputs": [
    {
     "data": {
      "text/plain": [
       "CRNN(\n",
       "  (conv): Sequential(\n",
       "    (0): Conv2d(1, 3, kernel_size=(5, 24), stride=(3, 15))\n",
       "    (1): Flatten(start_dim=1, end_dim=2)\n",
       "  )\n",
       "  (gru): GRU(36, 12, num_layers=2, batch_first=True)\n",
       "  (attention): Attention(\n",
       "    (energy): Sequential(\n",
       "      (0): Linear(in_features=12, out_features=12, bias=True)\n",
       "      (1): Tanh()\n",
       "      (2): Linear(in_features=12, out_features=1, bias=True)\n",
       "    )\n",
       "  )\n",
       "  (classifier): Linear(in_features=12, out_features=2, bias=True)\n",
       ")"
      ]
     },
     "execution_count": 43,
     "metadata": {},
     "output_type": "execute_result"
    }
   ],
   "source": [
    "model"
   ]
  },
  {
   "cell_type": "code",
   "execution_count": 51,
   "metadata": {
    "ExecuteTime": {
     "end_time": "2022-11-06T17:32:39.007570Z",
     "start_time": "2022-11-06T17:32:38.993281Z"
    },
    "hidden": true
   },
   "outputs": [
    {
     "name": "stdout",
     "output_type": "stream",
     "text": [
      "[INFO] Register count_convNd() for <class 'torch.nn.modules.conv.Conv2d'>.\n",
      "[INFO] Register zero_ops() for <class 'torch.nn.modules.container.Sequential'>.\n",
      "[INFO] Register count_gru() for <class 'torch.nn.modules.rnn.GRU'>.\n",
      "[INFO] Register count_linear() for <class 'torch.nn.modules.linear.Linear'>.\n"
     ]
    },
    {
     "data": {
      "text/plain": [
       "1809216.0"
      ]
     },
     "execution_count": 51,
     "metadata": {},
     "output_type": "execute_result"
    }
   ],
   "source": [
    "Metrics.get_macs(base_model.to('cuda'))"
   ]
  },
  {
   "cell_type": "code",
   "execution_count": 49,
   "metadata": {
    "ExecuteTime": {
     "end_time": "2022-11-06T17:24:22.740079Z",
     "start_time": "2022-11-06T17:24:22.729594Z"
    },
    "hidden": true
   },
   "outputs": [
    {
     "data": {
      "text/plain": [
       "10.344063993756707"
      ]
     },
     "execution_count": 49,
     "metadata": {},
     "output_type": "execute_result"
    }
   ],
   "source": [
    "Metrics.get_size_in_megabytes(base_model) / Metrics.get_size_in_megabytes(model.half())"
   ]
  },
  {
   "cell_type": "code",
   "execution_count": null,
   "metadata": {
    "hidden": true
   },
   "outputs": [],
   "source": [
    "Metrics.get_size_in_megabytes"
   ]
  },
  {
   "cell_type": "code",
   "execution_count": 41,
   "metadata": {
    "ExecuteTime": {
     "end_time": "2022-11-06T17:21:31.485872Z",
     "start_time": "2022-11-06T17:21:31.481322Z"
    },
    "hidden": true
   },
   "outputs": [],
   "source": [
    "half_model = model.half()"
   ]
  },
  {
   "cell_type": "code",
   "execution_count": 42,
   "metadata": {
    "ExecuteTime": {
     "end_time": "2022-11-06T17:21:32.202063Z",
     "start_time": "2022-11-06T17:21:32.186063Z"
    },
    "hidden": true
   },
   "outputs": [
    {
     "data": {
      "text/plain": [
       "6.525157997083131"
      ]
     },
     "execution_count": 42,
     "metadata": {},
     "output_type": "execute_result"
    }
   ],
   "source": [
    "Metrics.get_size_in_megabytes(base_model) / Metrics.get_size_in_megabytes(half_model)"
   ]
  },
  {
   "cell_type": "code",
   "execution_count": 29,
   "metadata": {
    "ExecuteTime": {
     "end_time": "2022-11-06T17:13:39.008874Z",
     "start_time": "2022-11-06T17:13:25.914922Z"
    },
    "hidden": true
   },
   "outputs": [
    {
     "name": "stderr",
     "output_type": "stream",
     "text": [
      "102it [00:04, 25.23it/s]\n"
     ]
    },
    {
     "data": {
      "text/plain": [
       "4.342882752161334e-05"
      ]
     },
     "execution_count": 29,
     "metadata": {},
     "output_type": "execute_result"
    }
   ],
   "source": [
    "class Half(nn.Module):\n",
    "    def __init__(self, model):\n",
    "        super().__init__()\n",
    "        self.config = model.config\n",
    "        self.model = model.half()\n",
    "        \n",
    "    def forward(self, x):\n",
    "        return self.model(x.half())\n",
    "\n",
    "    \n",
    "half_model = Half(model)\n",
    "validation(half_model, val_loader, melspec_val, half_model.config.device)"
   ]
  },
  {
   "cell_type": "code",
   "execution_count": 44,
   "metadata": {
    "ExecuteTime": {
     "end_time": "2022-11-06T09:04:10.426834Z",
     "start_time": "2022-11-06T09:04:10.419691Z"
    },
    "hidden": true
   },
   "outputs": [
    {
     "data": {
      "text/plain": [
       "torch.Size([1, 8, 18, 23])"
      ]
     },
     "execution_count": 44,
     "metadata": {},
     "output_type": "execute_result"
    }
   ],
   "source": [
    "x = torch.rand([1, 1, 40, 201]).to('cuda')\n",
    "base_model.conv[0](x).size()"
   ]
  },
  {
   "cell_type": "code",
   "execution_count": 53,
   "metadata": {
    "ExecuteTime": {
     "end_time": "2022-11-06T09:10:09.391384Z",
     "start_time": "2022-11-06T09:10:09.352531Z"
    },
    "hidden": true
   },
   "outputs": [
    {
     "data": {
      "text/plain": [
       "torch.Size([4, 18, 21])"
      ]
     },
     "execution_count": 53,
     "metadata": {},
     "output_type": "execute_result"
    }
   ],
   "source": [
    "x = torch.rand([1, 40, 201])\n",
    "pool = nn.AvgPool2d(kernel_size=(1, 6), stride=(1, 3))\n",
    "conv = nn.Conv2d(1, 4, kernel_size=(5, 6), stride=(2, 3))\n",
    "conv(pool(x)).size()"
   ]
  },
  {
   "cell_type": "code",
   "execution_count": 56,
   "metadata": {
    "ExecuteTime": {
     "end_time": "2022-11-06T09:16:53.425865Z",
     "start_time": "2022-11-06T09:16:53.419709Z"
    },
    "hidden": true
   },
   "outputs": [],
   "source": [
    "config = BaseConfig(\n",
    "    hidden_size=12, cnn_out_channels=4, gru_num_layers=2, dropout=0.,\n",
    "    kernel_size=(5, 16),\n",
    "    stride=(3, 12),\n",
    "    n_mels=40,\n",
    ")\n",
    "\n",
    "st_model = CRNN(config).cpu()"
   ]
  },
  {
   "cell_type": "code",
   "execution_count": null,
   "metadata": {
    "hidden": true
   },
   "outputs": [],
   "source": []
  },
  {
   "cell_type": "code",
   "execution_count": 79,
   "metadata": {
    "ExecuteTime": {
     "end_time": "2022-11-06T09:33:04.013086Z",
     "start_time": "2022-11-06T09:33:03.998039Z"
    },
    "hidden": true
   },
   "outputs": [],
   "source": [
    "import torch\n",
    "from torch import nn\n",
    "import torch.nn.functional as F\n",
    "\n",
    "class Attention(nn.Module):\n",
    "\n",
    "    def __init__(self, hidden_size: int):\n",
    "        super().__init__()\n",
    "\n",
    "        self.energy = nn.Sequential(\n",
    "            nn.Linear(hidden_size, hidden_size),\n",
    "            nn.Tanh(),\n",
    "            nn.Linear(hidden_size, 1)\n",
    "        )\n",
    "\n",
    "    def forward(self, input):\n",
    "        energy = self.energy(input)\n",
    "        alpha = torch.softmax(energy, dim=-2)\n",
    "        return (input * alpha).sum(dim=-2)\n",
    "\n",
    "class CRNNPool(nn.Module):\n",
    "\n",
    "    def __init__(self, config):\n",
    "        super().__init__()\n",
    "        self.config = config\n",
    "\n",
    "        self.pool = nn.AvgPool2d(kernel_size=(1, 6), stride=(1, 3))\n",
    "        self.conv = nn.Sequential(\n",
    "            nn.Conv2d(\n",
    "                in_channels=1, out_channels=config.cnn_out_channels,\n",
    "                kernel_size=config.kernel_size, stride=config.stride\n",
    "            ),\n",
    "            nn.Flatten(start_dim=1, end_dim=2),\n",
    "        )\n",
    "\n",
    "        self.conv_out_frequency = (config.n_mels - config.kernel_size[0]) // \\\n",
    "            config.stride[0] + 1\n",
    "\n",
    "        self.gru = nn.GRU(\n",
    "            input_size=self.conv_out_frequency * config.cnn_out_channels,\n",
    "            hidden_size=config.hidden_size,\n",
    "            num_layers=config.gru_num_layers,\n",
    "            dropout=config.dropout,\n",
    "            bidirectional=config.bidirectional,\n",
    "            batch_first=True\n",
    "        )\n",
    "\n",
    "        self.attention = Attention(config.hidden_size)\n",
    "        self.classifier = nn.Linear(config.hidden_size, config.num_classes)\n",
    "\n",
    "    def forward(self, input):\n",
    "        input = input.unsqueeze(dim=1)\n",
    "        input = self.pool(input)\n",
    "        conv_output = self.conv(input).transpose(-1, -2)\n",
    "        gru_output, _ = self.gru(conv_output)\n",
    "        contex_vector = self.attention(gru_output)\n",
    "        output = self.classifier(contex_vector)\n",
    "        return output"
   ]
  },
  {
   "cell_type": "code",
   "execution_count": 96,
   "metadata": {
    "ExecuteTime": {
     "end_time": "2022-11-06T09:36:35.783882Z",
     "start_time": "2022-11-06T09:36:35.730389Z"
    },
    "hidden": true
   },
   "outputs": [
    {
     "name": "stdout",
     "output_type": "stream",
     "text": [
      "torch.Size([1, 40, 201])\n",
      "[INFO] Register count_avgpool() for <class 'torch.nn.modules.pooling.AvgPool2d'>.\n",
      "[INFO] Register count_convNd() for <class 'torch.nn.modules.conv.Conv2d'>.\n",
      "[INFO] Register zero_ops() for <class 'torch.nn.modules.container.Sequential'>.\n",
      "[INFO] Register count_gru() for <class 'torch.nn.modules.rnn.GRU'>.\n",
      "[INFO] Register count_linear() for <class 'torch.nn.modules.linear.Linear'>.\n"
     ]
    },
    {
     "data": {
      "text/plain": [
       "(90967.0, 3574.0)"
      ]
     },
     "execution_count": 96,
     "metadata": {},
     "output_type": "execute_result"
    }
   ],
   "source": [
    "config = BaseConfig(\n",
    "    hidden_size=11, cnn_out_channels=5, gru_num_layers=2, dropout=0.,\n",
    "    kernel_size=(5, 8),\n",
    "    stride=(3, 4),\n",
    "    n_mels=40,\n",
    ")\n",
    "\n",
    "pool_model = CRNNPool(config).to(config.device).cpu()\n",
    "\n",
    "x = melspec_val(torch.rand(size=[1, 16000 * 2]).to('cuda')).cpu()\n",
    "print(x.size())\n",
    "profile(pool_model, (x,))"
   ]
  },
  {
   "cell_type": "code",
   "execution_count": 89,
   "metadata": {
    "ExecuteTime": {
     "end_time": "2022-11-06T09:35:38.263865Z",
     "start_time": "2022-11-06T09:35:38.233360Z"
    },
    "hidden": true
   },
   "outputs": [
    {
     "name": "stdout",
     "output_type": "stream",
     "text": [
      "[INFO] Register count_avgpool() for <class 'torch.nn.modules.pooling.AvgPool2d'>.\n",
      "pool (2640.0, 0)\n",
      "[INFO] Register count_convNd() for <class 'torch.nn.modules.conv.Conv2d'>.\n",
      "conv (48600.0, 0)\n",
      "torch.Size([1, 6, 12, 15])\n",
      "[INFO] Register count_gru() for <class 'torch.nn.modules.rnn.GRU'>.\n",
      "gru (63000.0, 0)\n"
     ]
    }
   ],
   "source": [
    "x = melspec_val(torch.rand(size=[1, 16000 * 2]).to('cuda')).unsqueeze(1).cpu()\n",
    "\n",
    "pool = nn.AvgPool2d(kernel_size=(1, 6), stride=(1, 3))\n",
    "print('pool', profile(pool, (x,)))\n",
    "x = pool(x)\n",
    "\n",
    "conv = nn.Conv2d(1, 6, kernel_size=(5, 9), stride=(3, 4))\n",
    "print('conv', profile(conv, (x, )))\n",
    "\n",
    "print(conv(x).size())\n",
    "flatten = nn.Flatten(start_dim=1, end_dim=2)\n",
    "conv_output = flatten(conv(x)).transpose(-1, -2)\n",
    "\n",
    "gru = nn.GRU(\n",
    "            input_size=72,\n",
    "            hidden_size=12,\n",
    "            num_layers=2,\n",
    "            dropout=0,\n",
    "            bidirectional=False,\n",
    "            batch_first=True\n",
    "        )\n",
    "\n",
    "print('gru', profile(gru, (conv_output, )))"
   ]
  },
  {
   "cell_type": "code",
   "execution_count": 54,
   "metadata": {
    "ExecuteTime": {
     "end_time": "2022-11-06T09:13:44.133535Z",
     "start_time": "2022-11-06T09:13:44.107406Z"
    },
    "hidden": true
   },
   "outputs": [
    {
     "name": "stdout",
     "output_type": "stream",
     "text": [
      "[INFO] Register count_avgpool() for <class 'torch.nn.modules.pooling.AvgPool2d'>.\n"
     ]
    },
    {
     "data": {
      "text/plain": [
       "(2640.0, 0)"
      ]
     },
     "execution_count": 54,
     "metadata": {},
     "output_type": "execute_result"
    }
   ],
   "source": [
    "x = torch.rand([1, 40, 201])\n",
    "pool = nn.AvgPool2d(kernel_size=(1, 6), stride=(1, 3))\n",
    "profile(pool, (x,))"
   ]
  },
  {
   "cell_type": "code",
   "execution_count": null,
   "metadata": {
    "hidden": true
   },
   "outputs": [],
   "source": []
  },
  {
   "cell_type": "code",
   "execution_count": 34,
   "metadata": {
    "ExecuteTime": {
     "end_time": "2022-11-06T08:53:55.972458Z",
     "start_time": "2022-11-06T08:53:55.953192Z"
    },
    "hidden": true
   },
   "outputs": [
    {
     "data": {
      "text/plain": [
       "CRNNHalf(\n",
       "  (conv): Sequential(\n",
       "    (0): Conv2d(1, 8, kernel_size=(5, 20), stride=(2, 8))\n",
       "    (1): Flatten(start_dim=1, end_dim=2)\n",
       "  )\n",
       "  (gru): GRU(144, 32, num_layers=2, batch_first=True)\n",
       "  (attention): Attention(\n",
       "    (energy): Sequential(\n",
       "      (0): Linear(in_features=32, out_features=32, bias=True)\n",
       "      (1): Tanh()\n",
       "      (2): Linear(in_features=32, out_features=1, bias=True)\n",
       "    )\n",
       "  )\n",
       "  (classifier): Linear(in_features=32, out_features=2, bias=True)\n",
       ")"
      ]
     },
     "execution_count": 34,
     "metadata": {},
     "output_type": "execute_result"
    }
   ],
   "source": [
    "from base_config import BaseConfig\n",
    "\n",
    "path = '/home/dpozdeev/dla-kws/save/Base/1105_021522/Base_sched=False.tar'\n",
    "\n",
    "\n",
    "def load_model_half(path):\n",
    "    load_dict = torch.load(path)\n",
    "    config_dict = load_dict['config_dict']\n",
    "    config = BaseConfig(**config_dict)\n",
    "    model = CRNNHalf(config)\n",
    "    model.load_state_dict(load_dict['model_state'])\n",
    "\n",
    "    return model.half()\n",
    "\n",
    "base_model_half = load_model_half(path)\n",
    "base_model_half.to('cuda')"
   ]
  },
  {
   "cell_type": "code",
   "execution_count": 35,
   "metadata": {
    "ExecuteTime": {
     "end_time": "2022-11-06T08:54:15.399880Z",
     "start_time": "2022-11-06T08:53:59.940974Z"
    },
    "hidden": true
   },
   "outputs": [
    {
     "name": "stderr",
     "output_type": "stream",
     "text": [
      "102it [00:04, 23.10it/s]\n"
     ]
    },
    {
     "data": {
      "text/plain": [
       "2.2772161569560494e-05"
      ]
     },
     "execution_count": 35,
     "metadata": {},
     "output_type": "execute_result"
    }
   ],
   "source": [
    "validation(base_model_half, val_loader, melspec_val, base_model_half.config.device)"
   ]
  },
  {
   "cell_type": "code",
   "execution_count": 41,
   "metadata": {
    "ExecuteTime": {
     "end_time": "2022-11-06T08:57:42.019897Z",
     "start_time": "2022-11-06T08:57:26.549356Z"
    },
    "hidden": true
   },
   "outputs": [
    {
     "name": "stderr",
     "output_type": "stream",
     "text": [
      "102it [00:04, 23.65it/s]\n"
     ]
    },
    {
     "data": {
      "text/plain": [
       "2.2772161569560497e-05"
      ]
     },
     "execution_count": 41,
     "metadata": {},
     "output_type": "execute_result"
    }
   ],
   "source": [
    "base_model.to('cuda')\n",
    "validation(base_model, val_loader, melspec_val, base_model.config.device)"
   ]
  },
  {
   "cell_type": "code",
   "execution_count": 39,
   "metadata": {
    "ExecuteTime": {
     "end_time": "2022-11-06T08:55:51.437581Z",
     "start_time": "2022-11-06T08:55:51.424151Z"
    },
    "hidden": true
   },
   "outputs": [
    {
     "data": {
      "text/plain": [
       "1.9557166307014147"
      ]
     },
     "execution_count": 39,
     "metadata": {},
     "output_type": "execute_result"
    }
   ],
   "source": [
    "Metrics.get_size_in_megabytes(base_model) / Metrics.get_size_in_megabytes(base_model_half)"
   ]
  },
  {
   "cell_type": "code",
   "execution_count": 151,
   "metadata": {
    "ExecuteTime": {
     "end_time": "2022-11-04T20:34:30.346355Z",
     "start_time": "2022-11-04T20:34:30.308933Z"
    },
    "hidden": true
   },
   "outputs": [
    {
     "data": {
      "text/plain": [
       "OrderedDict([('conv.0.weight',\n",
       "              tensor([[[[ 0.0659,  0.0145, -0.0721, -0.0543,  0.0095,  0.0301,  0.0143,\n",
       "                         -0.0281, -0.0091, -0.0093, -0.0262, -0.0442,  0.0563,  0.0644,\n",
       "                         -0.0149,  0.0769,  0.0394, -0.0554,  0.0604, -0.0328],\n",
       "                        [-0.0496, -0.0065,  0.0062,  0.0762, -0.0523,  0.0174, -0.0786,\n",
       "                          0.0071,  0.0041, -0.0525,  0.0955,  0.0471, -0.0710,  0.0303,\n",
       "                          0.0481,  0.0318, -0.0931,  0.0772,  0.0479, -0.0741],\n",
       "                        [ 0.0237,  0.0634, -0.0248,  0.1112,  0.0607,  0.0637,  0.0746,\n",
       "                          0.0118,  0.0726,  0.0389,  0.0466, -0.0834, -0.0461, -0.0462,\n",
       "                         -0.0959,  0.0157, -0.0183, -0.0392, -0.1205, -0.0935],\n",
       "                        [-0.0009, -0.0331,  0.0081,  0.1027, -0.0077, -0.0091,  0.0859,\n",
       "                         -0.0311,  0.0745, -0.0548, -0.0069,  0.1179, -0.0435,  0.0768,\n",
       "                         -0.0160, -0.0811, -0.0798,  0.0081,  0.0049, -0.1248],\n",
       "                        [ 0.0547, -0.0296, -0.0118, -0.0643, -0.0717,  0.0678,  0.0175,\n",
       "                          0.0609,  0.0618,  0.0140,  0.0429,  0.0586, -0.0350,  0.0245,\n",
       "                          0.0750, -0.0556, -0.0176, -0.0818,  0.0339, -0.0891]]],\n",
       "              \n",
       "              \n",
       "                      [[[ 0.1011, -0.0074, -0.0133,  0.0173, -0.0735, -0.0781,  0.0893,\n",
       "                          0.0455, -0.0112,  0.0248, -0.0269, -0.0693, -0.0328, -0.0043,\n",
       "                         -0.0235,  0.0725,  0.0058, -0.0323, -0.0486,  0.0731],\n",
       "                        [-0.0382, -0.0707,  0.0295, -0.0374, -0.0038, -0.0574, -0.0105,\n",
       "                          0.0020, -0.0752,  0.0225,  0.1066,  0.0471,  0.1014,  0.0322,\n",
       "                         -0.0079, -0.0240, -0.0113,  0.0141,  0.0030, -0.0542],\n",
       "                        [-0.0792, -0.0759, -0.1155, -0.0243, -0.0881,  0.0792,  0.0178,\n",
       "                          0.0679,  0.0682, -0.0346,  0.0622, -0.0436,  0.0435,  0.0139,\n",
       "                         -0.0970,  0.0037, -0.0250,  0.0725, -0.0273,  0.1199],\n",
       "                        [-0.0783, -0.0166,  0.0321, -0.0734, -0.0523, -0.0882, -0.0813,\n",
       "                         -0.0739,  0.0579,  0.0738,  0.0790, -0.0494, -0.0218,  0.0713,\n",
       "                          0.0109,  0.0022,  0.0142,  0.0824, -0.0371,  0.1048],\n",
       "                        [-0.0552, -0.0553, -0.0212, -0.0316,  0.0992,  0.1011,  0.0289,\n",
       "                          0.0857, -0.0236, -0.0617, -0.0598, -0.0560, -0.0275,  0.0421,\n",
       "                          0.0086,  0.0950, -0.0499, -0.0344, -0.0037, -0.0067]]],\n",
       "              \n",
       "              \n",
       "                      [[[ 0.0621, -0.0102,  0.0197,  0.0385,  0.0738, -0.0310,  0.0735,\n",
       "                          0.0649,  0.0269, -0.0487,  0.0018,  0.0181, -0.0308, -0.0232,\n",
       "                         -0.0797, -0.0833, -0.1095,  0.0425, -0.0226,  0.0039],\n",
       "                        [-0.0358,  0.0665,  0.0671,  0.0493,  0.0058,  0.0708,  0.0241,\n",
       "                         -0.0397,  0.0510,  0.0690,  0.0235, -0.0015, -0.0316, -0.0584,\n",
       "                          0.0543, -0.0071, -0.0131, -0.0488, -0.1584, -0.1182],\n",
       "                        [-0.0089, -0.0553,  0.1050, -0.0128, -0.0457,  0.0348,  0.0741,\n",
       "                          0.0580,  0.0440,  0.0845,  0.0812, -0.0066,  0.0800,  0.0537,\n",
       "                         -0.1053, -0.1019, -0.0726, -0.0593, -0.1146, -0.0547],\n",
       "                        [-0.0268,  0.0324,  0.0368, -0.0756,  0.0821,  0.0466,  0.1053,\n",
       "                          0.0742,  0.0319, -0.0166,  0.0638,  0.0955, -0.0534, -0.0816,\n",
       "                         -0.0139, -0.0628, -0.0440,  0.0090, -0.0304, -0.1338],\n",
       "                        [-0.0900,  0.0721, -0.0414,  0.0879,  0.0295,  0.1127, -0.0493,\n",
       "                          0.0503,  0.0072,  0.0720,  0.0744, -0.0857,  0.0931, -0.1087,\n",
       "                          0.0625, -0.0473, -0.0476, -0.0659, -0.0592, -0.0418]]],\n",
       "              \n",
       "              \n",
       "                      [[[ 0.0570,  0.0166,  0.1102, -0.0323, -0.0425,  0.0154,  0.0145,\n",
       "                          0.0366, -0.0208,  0.0622, -0.0208, -0.0132, -0.0049,  0.0613,\n",
       "                         -0.0786, -0.0515, -0.0226, -0.0706,  0.0477, -0.0643],\n",
       "                        [ 0.1359,  0.1261,  0.0116,  0.0467,  0.0054,  0.0845, -0.0585,\n",
       "                          0.0448, -0.0027,  0.0125, -0.0212,  0.0517,  0.0012, -0.0211,\n",
       "                         -0.0192, -0.0924, -0.1274, -0.0855,  0.0371, -0.1490],\n",
       "                        [ 0.1062,  0.0551,  0.0188,  0.1106, -0.0184,  0.0292,  0.0255,\n",
       "                          0.0191, -0.0346,  0.0562, -0.0989,  0.0182, -0.0240,  0.0162,\n",
       "                          0.0506,  0.0048, -0.0667, -0.0885, -0.0678, -0.1388],\n",
       "                        [-0.0118,  0.0719,  0.0147,  0.0804,  0.0108,  0.1161,  0.0977,\n",
       "                          0.0232,  0.0942,  0.0704, -0.0731, -0.0550, -0.0366, -0.0908,\n",
       "                         -0.0169, -0.0548, -0.0266, -0.0714, -0.0585, -0.0985],\n",
       "                        [ 0.0810, -0.0236,  0.0684, -0.0503,  0.0091,  0.0209,  0.0870,\n",
       "                         -0.0489, -0.0858, -0.0827,  0.0872, -0.0624,  0.0481,  0.0631,\n",
       "                         -0.0318, -0.0226, -0.0042, -0.0128, -0.0138, -0.0492]]],\n",
       "              \n",
       "              \n",
       "                      [[[-0.0734, -0.0831,  0.0867,  0.0844, -0.0694, -0.0630,  0.0452,\n",
       "                         -0.0545, -0.0199, -0.0138, -0.0415,  0.0452, -0.0327,  0.0939,\n",
       "                         -0.0420, -0.0078, -0.0654,  0.0499,  0.0809,  0.1100],\n",
       "                        [ 0.0290, -0.0072, -0.1059,  0.0326,  0.0423, -0.0661,  0.0276,\n",
       "                         -0.0458,  0.0028,  0.0200, -0.0037, -0.0458,  0.0071, -0.0660,\n",
       "                         -0.0521,  0.0497,  0.0876,  0.0489,  0.0377,  0.0100],\n",
       "                        [-0.0867, -0.0468, -0.0719, -0.0361,  0.0372, -0.0499, -0.0600,\n",
       "                         -0.0385, -0.0260,  0.0028, -0.0275,  0.0369,  0.0544,  0.0480,\n",
       "                          0.0818, -0.0735,  0.0967, -0.0404,  0.1127,  0.1307],\n",
       "                        [-0.0614,  0.0710, -0.0379, -0.0905,  0.0405,  0.0097,  0.0789,\n",
       "                         -0.0858,  0.0085, -0.0169, -0.0875, -0.0171,  0.0203, -0.0694,\n",
       "                         -0.0275,  0.1214,  0.0551, -0.0480,  0.0949,  0.1047],\n",
       "                        [-0.0581, -0.0563,  0.0596,  0.0199, -0.1119,  0.0174, -0.0018,\n",
       "                          0.0490, -0.1090, -0.0902,  0.0719, -0.0732,  0.0026,  0.0490,\n",
       "                         -0.0706,  0.0786,  0.0284,  0.0625,  0.0992,  0.0967]]],\n",
       "              \n",
       "              \n",
       "                      [[[-0.0008, -0.0124, -0.0415, -0.0045,  0.0561, -0.0616,  0.0817,\n",
       "                          0.0115,  0.0492,  0.0184, -0.0322, -0.0279,  0.0032, -0.0225,\n",
       "                          0.0412,  0.0161, -0.0236, -0.0434,  0.0549, -0.0107],\n",
       "                        [-0.1418, -0.0758,  0.0655,  0.0390,  0.0174,  0.0506,  0.0019,\n",
       "                          0.0702,  0.0458,  0.0231,  0.0200,  0.1030, -0.0096,  0.0503,\n",
       "                          0.0328, -0.0574, -0.0213, -0.0817, -0.0027, -0.0927],\n",
       "                        [-0.1381, -0.1287, -0.1129,  0.0606,  0.0789, -0.0542,  0.0047,\n",
       "                          0.0714, -0.0811,  0.1075,  0.0215, -0.0771,  0.0846,  0.0542,\n",
       "                          0.0239,  0.0604,  0.0757, -0.0877,  0.0896, -0.0240],\n",
       "                        [-0.0901, -0.0314, -0.0851,  0.0297, -0.0598, -0.0084,  0.0783,\n",
       "                         -0.0320,  0.0920, -0.0222, -0.0368,  0.0439, -0.0928,  0.0121,\n",
       "                          0.0574,  0.0838, -0.0201,  0.0684,  0.0326, -0.0181],\n",
       "                        [ 0.0107,  0.0084, -0.0409,  0.0081, -0.0498, -0.0521,  0.0050,\n",
       "                          0.0469, -0.0509, -0.0268,  0.0608,  0.0838, -0.0421,  0.0700,\n",
       "                          0.0345,  0.0022, -0.0589,  0.0005,  0.0348,  0.0099]]],\n",
       "              \n",
       "              \n",
       "                      [[[ 0.1152,  0.0033,  0.0928, -0.0616, -0.0464, -0.0062,  0.0927,\n",
       "                         -0.0866, -0.0220, -0.0928, -0.0622,  0.0318, -0.0380, -0.0203,\n",
       "                         -0.0821,  0.0787,  0.0128,  0.0034,  0.0891, -0.0529],\n",
       "                        [ 0.0942,  0.1246,  0.0344,  0.1119,  0.0508,  0.0161, -0.0154,\n",
       "                          0.0094, -0.0189,  0.0402, -0.0734, -0.0003, -0.0711, -0.0834,\n",
       "                          0.0231, -0.0910, -0.0792,  0.0551, -0.0594, -0.0827],\n",
       "                        [ 0.0344,  0.0944, -0.0044,  0.0030, -0.0181, -0.0010, -0.0712,\n",
       "                         -0.0567, -0.0032, -0.0791,  0.0280, -0.0375, -0.0340,  0.0813,\n",
       "                          0.0156,  0.0022, -0.1044, -0.0351,  0.0341,  0.0772],\n",
       "                        [ 0.1030,  0.0899, -0.0055,  0.0533, -0.0466,  0.0372, -0.0782,\n",
       "                          0.0594,  0.0121, -0.0890, -0.0495, -0.0742,  0.0735,  0.0196,\n",
       "                         -0.0826, -0.0645, -0.0078,  0.0228,  0.0386, -0.0244],\n",
       "                        [-0.0455,  0.0452,  0.0681,  0.0356,  0.0845,  0.0852,  0.0234,\n",
       "                         -0.0175,  0.0551, -0.0645, -0.0717,  0.0554, -0.0815, -0.0791,\n",
       "                         -0.0755,  0.0199,  0.0471, -0.0776, -0.1015,  0.0279]]],\n",
       "              \n",
       "              \n",
       "                      [[[-0.1176, -0.0354,  0.0537,  0.0686, -0.1041,  0.0179,  0.0587,\n",
       "                         -0.0031,  0.0265,  0.0511,  0.0691, -0.0784,  0.0085,  0.0963,\n",
       "                         -0.0613, -0.0405,  0.0579,  0.0288, -0.0978, -0.0486],\n",
       "                        [-0.1253, -0.0560, -0.0604, -0.0067,  0.0224,  0.0303,  0.0289,\n",
       "                          0.1005, -0.0254,  0.0238, -0.0629,  0.0337, -0.0261, -0.0152,\n",
       "                          0.0828,  0.0063,  0.0591, -0.0200,  0.0809, -0.0894],\n",
       "                        [-0.0782, -0.0767, -0.0616, -0.0510, -0.0211, -0.0020,  0.0422,\n",
       "                         -0.0411, -0.0153, -0.0603,  0.0479,  0.0745,  0.0506,  0.0299,\n",
       "                          0.1182, -0.0133, -0.0403,  0.0656, -0.0628,  0.0629],\n",
       "                        [-0.1257,  0.0273, -0.0148,  0.0845,  0.0459, -0.0436,  0.0802,\n",
       "                          0.0742, -0.0478,  0.0306,  0.0713, -0.0585,  0.0575, -0.0900,\n",
       "                          0.0901, -0.0711, -0.0827,  0.0035,  0.0440, -0.0724],\n",
       "                        [-0.0223, -0.0006, -0.0239,  0.0761, -0.0060, -0.0210,  0.0766,\n",
       "                         -0.0905, -0.0452,  0.0033,  0.0761, -0.0300, -0.0182, -0.0532,\n",
       "                          0.0467, -0.0632,  0.0563, -0.0745,  0.0820, -0.0022]]]])),\n",
       "             ('conv.0.bias',\n",
       "              tensor([ 0.0515, -0.0076,  0.0381,  0.1532, -0.1838, -0.1067,  0.0864, -0.0906])),\n",
       "             ('gru.weight_ih_l0',\n",
       "              tensor([[ 0.1314, -0.1073,  0.1206,  ...,  0.0886, -0.0373, -0.1651],\n",
       "                      [-0.1341, -0.0222,  0.0293,  ...,  0.1421, -0.0116, -0.0846],\n",
       "                      [-0.0611,  0.0670,  0.0113,  ...,  0.0666,  0.0628,  0.1343],\n",
       "                      ...,\n",
       "                      [ 0.0862,  0.1350, -0.1425,  ..., -0.0949, -0.2020, -0.1681],\n",
       "                      [ 0.1019, -0.0953,  0.0279,  ...,  0.0360,  0.0624,  0.0645],\n",
       "                      [-0.0294, -0.1019, -0.0240,  ...,  0.0603,  0.1278,  0.1876]])),\n",
       "             ('gru.weight_hh_l0',\n",
       "              tensor([[ 0.1428, -0.0979,  0.1481,  ..., -0.1025,  0.0784,  0.1237],\n",
       "                      [ 0.1546, -0.0836, -0.0982,  ...,  0.0454, -0.0297,  0.1496],\n",
       "                      [-0.0863,  0.0023,  0.0384,  ..., -0.0930,  0.0764,  0.0477],\n",
       "                      ...,\n",
       "                      [ 0.0519, -0.3558,  0.1151,  ..., -0.2539,  0.1352,  0.0886],\n",
       "                      [ 0.1112,  0.0706, -0.1339,  ...,  0.1409, -0.0691, -0.0604],\n",
       "                      [-0.0134, -0.0107, -0.0819,  ...,  0.1477,  0.1583,  0.1139]])),\n",
       "             ('gru.bias_ih_l0',\n",
       "              tensor([ 4.8227e-02,  6.3846e-02,  6.2936e-02, -1.2229e-01, -1.3656e-01,\n",
       "                      -1.3536e-01, -2.2654e-04,  3.7752e-02,  1.4365e-01,  5.1963e-02,\n",
       "                       9.4382e-02,  3.1993e-02,  1.6556e-03,  1.9844e-01,  3.2130e-02,\n",
       "                      -7.6849e-02, -9.4996e-02, -8.5445e-02, -1.0118e-01,  9.7999e-02,\n",
       "                      -3.3176e-02, -2.6623e-02,  6.2450e-03, -1.2028e-02,  9.8770e-02,\n",
       "                      -1.3837e-01, -5.6599e-02, -7.6303e-02,  6.0121e-02, -7.3505e-02,\n",
       "                      -8.9918e-02, -7.1140e-03, -1.1085e-01, -1.0210e-01,  2.3510e-02,\n",
       "                       1.1550e-01, -1.6172e-01,  2.1547e-01,  1.9713e-02,  9.4575e-02,\n",
       "                      -4.8708e-02, -2.1537e-03, -1.5414e-01,  1.7731e-01, -2.4932e-02,\n",
       "                       6.7875e-02, -1.5639e-01, -7.4882e-02, -2.8961e-01,  1.8168e-01,\n",
       "                       1.3360e-01,  6.4553e-02, -1.7817e-01, -1.1393e-01,  1.1530e-01,\n",
       "                       2.3759e-01,  9.1905e-02,  6.3659e-02,  1.0905e-01,  6.9391e-02,\n",
       "                       9.0448e-02,  3.0190e-01,  7.0886e-02, -3.5364e-02, -6.0267e-02,\n",
       "                       3.3610e-02,  1.0631e-01, -8.5783e-02,  1.5165e-01, -1.1104e-01,\n",
       "                      -4.0807e-02, -1.5663e-01,  1.6585e-01, -1.0668e-01,  1.3794e-01,\n",
       "                      -1.1163e-01,  1.1269e-01, -2.3950e-01,  1.6558e-01,  7.8312e-02,\n",
       "                       3.1918e-02, -1.3379e-01, -1.2866e-02,  1.6792e-01, -4.2348e-02,\n",
       "                      -1.7025e-01,  1.3646e-01, -1.1377e-01,  1.5945e-01, -6.0479e-02,\n",
       "                      -1.7475e-01,  1.4646e-01,  4.7146e-02,  1.3727e-01,  1.2273e-01,\n",
       "                       1.4074e-02])),\n",
       "             ('gru.bias_hh_l0',\n",
       "              tensor([ 0.1053, -0.0041,  0.0147, -0.0835, -0.1292, -0.0200, -0.0963,  0.1446,\n",
       "                      -0.0589,  0.0852,  0.0534, -0.0032,  0.0818, -0.0324,  0.1800,  0.0105,\n",
       "                       0.0033, -0.0864, -0.0305,  0.0748, -0.0583,  0.0525,  0.1718,  0.1065,\n",
       "                      -0.0157,  0.0581,  0.1333, -0.0346,  0.1412,  0.0578,  0.0514, -0.0824,\n",
       "                      -0.1274, -0.0214, -0.0707,  0.1075, -0.1993, -0.0853,  0.0645, -0.1030,\n",
       "                       0.2438, -0.1469,  0.0747,  0.1615, -0.0591,  0.0237, -0.1963,  0.0682,\n",
       "                      -0.1211,  0.0669,  0.2265,  0.0835, -0.0584, -0.0684,  0.0795,  0.1317,\n",
       "                       0.3601,  0.1712,  0.1848,  0.1165,  0.0198,  0.2374, -0.0022, -0.0699,\n",
       "                      -0.1891, -0.1453,  0.0227, -0.1544,  0.1689, -0.0344,  0.0750,  0.1535,\n",
       "                       0.2416, -0.1204,  0.3299, -0.1102,  0.2274, -0.3197,  0.0212,  0.0555,\n",
       "                      -0.0031, -0.2153,  0.0121,  0.0948, -0.1594, -0.1743,  0.0860, -0.0916,\n",
       "                      -0.0537, -0.0655, -0.1299, -0.0736,  0.1777, -0.0602,  0.0547,  0.1643])),\n",
       "             ('gru.weight_ih_l1',\n",
       "              tensor([[-0.0174, -0.0778, -0.0638,  ...,  0.1946, -0.0062, -0.1518],\n",
       "                      [ 0.0768, -0.0374,  0.0801,  ...,  0.0950,  0.2091, -0.1140],\n",
       "                      [ 0.0749,  0.1058, -0.2164,  ...,  0.0902,  0.0682, -0.0558],\n",
       "                      ...,\n",
       "                      [-0.0320, -0.1522,  0.1637,  ..., -0.0139,  0.0672, -0.0011],\n",
       "                      [ 0.1826,  0.1724, -0.0676,  ..., -0.1868,  0.0805, -0.0328],\n",
       "                      [-0.0657, -0.0141, -0.0801,  ...,  0.0066,  0.1594,  0.2433]])),\n",
       "             ('gru.weight_hh_l1',\n",
       "              tensor([[ 0.0402, -0.0025,  0.2282,  ...,  0.1762, -0.1911, -0.2189],\n",
       "                      [-0.1061, -0.1235,  0.0748,  ...,  0.0699, -0.1385, -0.3065],\n",
       "                      [ 0.0411,  0.0188, -0.1656,  ...,  0.0119, -0.0677, -0.2723],\n",
       "                      ...,\n",
       "                      [ 0.1371, -0.1155,  0.1475,  ...,  0.1385, -0.0974, -0.0507],\n",
       "                      [ 0.1679, -0.1573, -0.0531,  ...,  0.0074, -0.1128, -0.0081],\n",
       "                      [-0.0559, -0.1086, -0.1194,  ..., -0.2130, -0.1082,  0.2891]])),\n",
       "             ('gru.bias_ih_l1',\n",
       "              tensor([-0.0954,  0.1336,  0.1526, -0.0653,  0.0097,  0.1544, -0.0856,  0.1535,\n",
       "                      -0.0075,  0.1311, -0.0559,  0.1686,  0.1248,  0.1565,  0.1460,  0.2290,\n",
       "                      -0.1035,  0.1603,  0.1815,  0.0920,  0.0170, -0.0054,  0.0360,  0.0754,\n",
       "                       0.0560,  0.1826,  0.0727,  0.1614,  0.1876, -0.1049,  0.0617,  0.1173,\n",
       "                       0.0463, -0.1228, -0.0539,  0.0553, -0.1247,  0.0272,  0.0767,  0.0276,\n",
       "                      -0.1484, -0.0083, -0.1639, -0.0239,  0.0216, -0.0561, -0.0943, -0.2325,\n",
       "                      -0.2596, -0.2321,  0.1105,  0.1675, -0.1279,  0.0319, -0.1876,  0.1338,\n",
       "                      -0.1630, -0.2301, -0.1106, -0.0673, -0.2078,  0.0800, -0.2315, -0.2340,\n",
       "                       0.0222,  0.1490, -0.0361,  0.0528,  0.0404, -0.1446, -0.0678,  0.1286,\n",
       "                       0.1055, -0.0244, -0.1903,  0.1316,  0.0680,  0.0520,  0.1826, -0.0074,\n",
       "                      -0.0836,  0.0460, -0.2117,  0.1082, -0.0237, -0.0401,  0.1389,  0.1143,\n",
       "                      -0.1677, -0.1384, -0.1304, -0.0876, -0.0500,  0.0899,  0.0685,  0.0203])),\n",
       "             ('gru.bias_hh_l1',\n",
       "              tensor([ 0.1188,  0.2116,  0.1382,  0.0461,  0.0178,  0.1884, -0.0897, -0.0177,\n",
       "                       0.1595,  0.1968, -0.0287,  0.2439, -0.0059,  0.1481,  0.0802,  0.0306,\n",
       "                       0.0381, -0.1366, -0.0972,  0.0290, -0.0015,  0.0747,  0.1161, -0.0510,\n",
       "                       0.1440,  0.1539, -0.0676,  0.1807,  0.2989,  0.0144,  0.2211,  0.1505,\n",
       "                      -0.0400, -0.1456, -0.1537,  0.1194, -0.0619,  0.0006,  0.0138, -0.1038,\n",
       "                       0.0781, -0.2717, -0.0284,  0.0459, -0.0922, -0.1225, -0.0989, -0.2597,\n",
       "                      -0.0133, -0.0923,  0.0470, -0.0231,  0.1805,  0.0704, -0.0340, -0.0141,\n",
       "                      -0.1572, -0.2043, -0.2119,  0.0851, -0.2072,  0.0870, -0.1167, -0.1274,\n",
       "                       0.0032,  0.1389, -0.0279,  0.0397,  0.1919, -0.0615,  0.1102, -0.0245,\n",
       "                       0.1508,  0.0716,  0.1515, -0.1160, -0.0151, -0.0768, -0.0791,  0.1289,\n",
       "                      -0.0369, -0.0770, -0.1466, -0.1571, -0.0546,  0.1117, -0.1114,  0.0604,\n",
       "                      -0.0217, -0.1657, -0.0413, -0.1572, -0.1620,  0.0634, -0.0896,  0.0638])),\n",
       "             ('attention.energy.0.weight',\n",
       "              tensor([[-0.0900, -0.1078,  0.0566,  ...,  0.0192,  0.1495, -0.2975],\n",
       "                      [ 0.0287,  0.0823,  0.0299,  ...,  0.0824, -0.2490,  0.0770],\n",
       "                      [ 0.1386, -0.1383, -0.0922,  ...,  0.0476,  0.1999, -0.1015],\n",
       "                      ...,\n",
       "                      [-0.0793,  0.1236,  0.0816,  ...,  0.0573, -0.1862,  0.1801],\n",
       "                      [ 0.0863,  0.1017,  0.1209,  ...,  0.0400, -0.0423,  0.3617],\n",
       "                      [ 0.0619,  0.0425, -0.1326,  ...,  0.1254,  0.1244, -0.3658]])),\n",
       "             ('attention.energy.0.bias',\n",
       "              tensor([-0.0973,  0.2144, -0.2250, -0.1058, -0.2855, -0.1885,  0.1895,  0.1110,\n",
       "                       0.2437, -0.1161, -0.1432,  0.2177, -0.2218,  0.2008, -0.1486,  0.2775,\n",
       "                       0.2179, -0.1114,  0.1489,  0.1815,  0.1638, -0.2122,  0.0318, -0.1142,\n",
       "                      -0.2175, -0.1384,  0.1910,  0.1832, -0.2116,  0.1422,  0.2695, -0.2920])),\n",
       "             ('attention.energy.2.weight',\n",
       "              tensor([[ 0.1599, -0.1977,  0.3069,  0.2282,  0.2273,  0.3840, -0.3015, -0.1860,\n",
       "                       -0.2278,  0.2399,  0.1364, -0.2215,  0.3734, -0.3593,  0.3379, -0.2826,\n",
       "                       -0.2996,  0.3092, -0.1594, -0.2368, -0.2376,  0.3771, -0.2008,  0.2247,\n",
       "                        0.3283,  0.1970, -0.2182, -0.2147,  0.2096, -0.1459, -0.3172,  0.3704]])),\n",
       "             ('attention.energy.2.bias', tensor([-3.3085e-05])),\n",
       "             ('classifier.weight',\n",
       "              tensor([[-0.1402,  0.3440,  0.2134,  0.0280,  0.2910, -0.3008,  0.2258,  0.2837,\n",
       "                        0.1263, -0.0107,  0.3315,  0.0192,  0.2117,  0.2878,  0.1314, -0.3808,\n",
       "                       -0.1855,  0.2121,  0.0146, -0.1658, -0.0493, -0.2361,  0.0493,  0.1669,\n",
       "                        0.0517,  0.2629, -0.0844, -0.1905,  0.1400,  0.2926, -0.1806,  0.0592],\n",
       "                      [ 0.1930, -0.2191, -0.0687, -0.0137, -0.2382,  0.1560, -0.0427, -0.3449,\n",
       "                       -0.1848,  0.0976, -0.1980,  0.0200, -0.0610, -0.2926, -0.2827,  0.2061,\n",
       "                        0.3395, -0.3705, -0.0934,  0.1800,  0.0273,  0.0486, -0.2993, -0.3187,\n",
       "                       -0.2986, -0.0737,  0.3679,  0.2470, -0.1806, -0.2291,  0.0959,  0.2407]])),\n",
       "             ('classifier.bias', tensor([ 0.0047, -0.0162]))])"
      ]
     },
     "execution_count": 151,
     "metadata": {},
     "output_type": "execute_result"
    }
   ],
   "source": [
    "torch.load('base_model.pth')"
   ]
  },
  {
   "cell_type": "code",
   "execution_count": 152,
   "metadata": {
    "ExecuteTime": {
     "end_time": "2022-11-04T20:38:33.300499Z",
     "start_time": "2022-11-04T20:38:33.210502Z"
    },
    "hidden": true
   },
   "outputs": [
    {
     "ename": "AttributeError",
     "evalue": "Can't get attribute 'Config' on <module '__main__'>",
     "output_type": "error",
     "traceback": [
      "\u001b[0;31m---------------------------------------------------------------------------\u001b[0m",
      "\u001b[0;31mAttributeError\u001b[0m                            Traceback (most recent call last)",
      "Cell \u001b[0;32mIn [152], line 10\u001b[0m\n\u001b[1;32m      1\u001b[0m config \u001b[38;5;241m=\u001b[39m TaskConfig(\n\u001b[1;32m      2\u001b[0m     hidden_size\u001b[38;5;241m=\u001b[39m\u001b[38;5;241m11\u001b[39m, cnn_out_channels\u001b[38;5;241m=\u001b[39m\u001b[38;5;241m3\u001b[39m, gru_num_layers\u001b[38;5;241m=\u001b[39m\u001b[38;5;241m2\u001b[39m, dropout\u001b[38;5;241m=\u001b[39m\u001b[38;5;241m0.\u001b[39m,\n\u001b[1;32m      3\u001b[0m     kernel_size\u001b[38;5;241m=\u001b[39m(\u001b[38;5;241m5\u001b[39m, \u001b[38;5;241m16\u001b[39m),\n\u001b[1;32m      4\u001b[0m     stride\u001b[38;5;241m=\u001b[39m(\u001b[38;5;241m3\u001b[39m, \u001b[38;5;241m12\u001b[39m),\n\u001b[1;32m      5\u001b[0m     n_mels\u001b[38;5;241m=\u001b[39m\u001b[38;5;241m40\u001b[39m,\n\u001b[1;32m      6\u001b[0m )\n\u001b[1;32m      8\u001b[0m mod_model \u001b[38;5;241m=\u001b[39m CRNN(config)\u001b[38;5;241m.\u001b[39mto(config\u001b[38;5;241m.\u001b[39mdevice)\n\u001b[0;32m---> 10\u001b[0m mod_model \u001b[38;5;241m=\u001b[39m mod_model\u001b[38;5;241m.\u001b[39mload_state_dict(\u001b[43mtorch\u001b[49m\u001b[38;5;241;43m.\u001b[39;49m\u001b[43mload\u001b[49m\u001b[43m(\u001b[49m\u001b[38;5;124;43m'\u001b[39;49m\u001b[38;5;124;43mmod.tar\u001b[39;49m\u001b[38;5;124;43m'\u001b[39;49m\u001b[43m)\u001b[49m)\n\u001b[1;32m     11\u001b[0m mod_model\n",
      "File \u001b[0;32m~/anaconda3/envs/dla-kws/lib/python3.9/site-packages/torch/serialization.py:712\u001b[0m, in \u001b[0;36mload\u001b[0;34m(f, map_location, pickle_module, **pickle_load_args)\u001b[0m\n\u001b[1;32m    710\u001b[0m             opened_file\u001b[38;5;241m.\u001b[39mseek(orig_position)\n\u001b[1;32m    711\u001b[0m             \u001b[38;5;28;01mreturn\u001b[39;00m torch\u001b[38;5;241m.\u001b[39mjit\u001b[38;5;241m.\u001b[39mload(opened_file)\n\u001b[0;32m--> 712\u001b[0m         \u001b[38;5;28;01mreturn\u001b[39;00m \u001b[43m_load\u001b[49m\u001b[43m(\u001b[49m\u001b[43mopened_zipfile\u001b[49m\u001b[43m,\u001b[49m\u001b[43m \u001b[49m\u001b[43mmap_location\u001b[49m\u001b[43m,\u001b[49m\u001b[43m \u001b[49m\u001b[43mpickle_module\u001b[49m\u001b[43m,\u001b[49m\u001b[43m \u001b[49m\u001b[38;5;241;43m*\u001b[39;49m\u001b[38;5;241;43m*\u001b[39;49m\u001b[43mpickle_load_args\u001b[49m\u001b[43m)\u001b[49m\n\u001b[1;32m    713\u001b[0m \u001b[38;5;28;01mreturn\u001b[39;00m _legacy_load(opened_file, map_location, pickle_module, \u001b[38;5;241m*\u001b[39m\u001b[38;5;241m*\u001b[39mpickle_load_args)\n",
      "File \u001b[0;32m~/anaconda3/envs/dla-kws/lib/python3.9/site-packages/torch/serialization.py:1049\u001b[0m, in \u001b[0;36m_load\u001b[0;34m(zip_file, map_location, pickle_module, pickle_file, **pickle_load_args)\u001b[0m\n\u001b[1;32m   1047\u001b[0m unpickler \u001b[38;5;241m=\u001b[39m UnpicklerWrapper(data_file, \u001b[38;5;241m*\u001b[39m\u001b[38;5;241m*\u001b[39mpickle_load_args)\n\u001b[1;32m   1048\u001b[0m unpickler\u001b[38;5;241m.\u001b[39mpersistent_load \u001b[38;5;241m=\u001b[39m persistent_load\n\u001b[0;32m-> 1049\u001b[0m result \u001b[38;5;241m=\u001b[39m \u001b[43munpickler\u001b[49m\u001b[38;5;241;43m.\u001b[39;49m\u001b[43mload\u001b[49m\u001b[43m(\u001b[49m\u001b[43m)\u001b[49m\n\u001b[1;32m   1051\u001b[0m torch\u001b[38;5;241m.\u001b[39m_utils\u001b[38;5;241m.\u001b[39m_validate_loaded_sparse_tensors()\n\u001b[1;32m   1053\u001b[0m \u001b[38;5;28;01mreturn\u001b[39;00m result\n",
      "File \u001b[0;32m~/anaconda3/envs/dla-kws/lib/python3.9/site-packages/torch/serialization.py:1042\u001b[0m, in \u001b[0;36m_load.<locals>.UnpicklerWrapper.find_class\u001b[0;34m(self, mod_name, name)\u001b[0m\n\u001b[1;32m   1040\u001b[0m         \u001b[38;5;28;01mpass\u001b[39;00m\n\u001b[1;32m   1041\u001b[0m mod_name \u001b[38;5;241m=\u001b[39m load_module_mapping\u001b[38;5;241m.\u001b[39mget(mod_name, mod_name)\n\u001b[0;32m-> 1042\u001b[0m \u001b[38;5;28;01mreturn\u001b[39;00m \u001b[38;5;28;43msuper\u001b[39;49m\u001b[43m(\u001b[49m\u001b[43m)\u001b[49m\u001b[38;5;241;43m.\u001b[39;49m\u001b[43mfind_class\u001b[49m\u001b[43m(\u001b[49m\u001b[43mmod_name\u001b[49m\u001b[43m,\u001b[49m\u001b[43m \u001b[49m\u001b[43mname\u001b[49m\u001b[43m)\u001b[49m\n",
      "\u001b[0;31mAttributeError\u001b[0m: Can't get attribute 'Config' on <module '__main__'>"
     ]
    }
   ],
   "source": [
    "config = TaskConfig(\n",
    "    hidden_size=11, cnn_out_channels=3, gru_num_layers=2, dropout=0.,\n",
    "    kernel_size=(5, 16),\n",
    "    stride=(3, 12),\n",
    "    n_mels=40,\n",
    ")\n",
    "\n",
    "mod_model = CRNN(config).to(config.device)\n",
    "\n",
    "mod_model = mod_model.load_state_dict(torch.load('mod.tar'))\n",
    "mod_model"
   ]
  },
  {
   "cell_type": "code",
   "execution_count": 116,
   "metadata": {
    "ExecuteTime": {
     "end_time": "2022-11-03T20:41:43.752576Z",
     "start_time": "2022-11-03T20:41:43.728216Z"
    },
    "hidden": true
   },
   "outputs": [],
   "source": [
    "config = TaskConfig(\n",
    "    hidden_size=11, cnn_out_channels=3, gru_num_layers=2, dropout=0.,\n",
    "    kernel_size=(5, 16),\n",
    "    stride=(3, 12),\n",
    "    n_mels=40,\n",
    ")\n",
    "\n",
    "config.num_epochs = 100\n",
    "\n",
    "st_model = CRNN(config).to(config.device)"
   ]
  },
  {
   "cell_type": "code",
   "execution_count": 117,
   "metadata": {
    "ExecuteTime": {
     "end_time": "2022-11-03T20:41:44.493072Z",
     "start_time": "2022-11-03T20:41:44.479798Z"
    },
    "hidden": true
   },
   "outputs": [
    {
     "name": "stdout",
     "output_type": "stream",
     "text": [
      "[INFO] Register count_convNd() for <class 'torch.nn.modules.conv.Conv2d'>.\n",
      "[INFO] Register zero_ops() for <class 'torch.nn.modules.container.Sequential'>.\n",
      "[INFO] Register count_gru() for <class 'torch.nn.modules.rnn.GRU'>.\n",
      "[INFO] Register count_linear() for <class 'torch.nn.modules.linear.Linear'>.\n"
     ]
    },
    {
     "data": {
      "text/plain": [
       "89222.0"
      ]
     },
     "execution_count": 117,
     "metadata": {},
     "output_type": "execute_result"
    }
   ],
   "source": [
    "Metrics.get_macs(st_model)"
   ]
  },
  {
   "cell_type": "code",
   "execution_count": 100,
   "metadata": {
    "ExecuteTime": {
     "end_time": "2022-11-03T20:35:51.231949Z",
     "start_time": "2022-11-03T20:35:51.222760Z"
    },
    "hidden": true
   },
   "outputs": [
    {
     "name": "stdout",
     "output_type": "stream",
     "text": [
      "conv 0.24175643920898438\n",
      "gru 0.7182121276855469\n",
      "attention 0.18606185913085938\n",
      "classifier 0.10137557983398438\n"
     ]
    }
   ],
   "source": [
    "keys_list = ['conv', 'gru', 'attention', 'classifier']\n",
    "\n",
    "for key in keys_list:\n",
    "    print(key, 100*Metrics.get_size_in_megabytes(getattr(st_model, key)))"
   ]
  },
  {
   "cell_type": "code",
   "execution_count": 101,
   "metadata": {
    "ExecuteTime": {
     "end_time": "2022-11-03T20:35:51.820859Z",
     "start_time": "2022-11-03T20:35:51.810353Z"
    },
    "hidden": true
   },
   "outputs": [
    {
     "data": {
      "text/plain": [
       "9.10337351487295"
      ]
     },
     "execution_count": 101,
     "metadata": {},
     "output_type": "execute_result"
    }
   ],
   "source": [
    "Metrics.get_size_in_megabytes(base_model) / Metrics.get_size_in_megabytes(st_model)"
   ]
  },
  {
   "cell_type": "code",
   "execution_count": 84,
   "metadata": {
    "ExecuteTime": {
     "end_time": "2022-11-03T20:28:13.772675Z",
     "start_time": "2022-11-03T20:28:13.767573Z"
    },
    "hidden": true
   },
   "outputs": [
    {
     "data": {
      "text/plain": [
       "17280"
      ]
     },
     "execution_count": 84,
     "metadata": {},
     "output_type": "execute_result"
    }
   ],
   "source": [
    "12 * 12 * 5 * 24"
   ]
  },
  {
   "cell_type": "code",
   "execution_count": 87,
   "metadata": {
    "ExecuteTime": {
     "end_time": "2022-11-03T20:30:45.300560Z",
     "start_time": "2022-11-03T20:30:45.291058Z"
    },
    "hidden": true
   },
   "outputs": [],
   "source": [
    "config = TaskConfig(\n",
    "    hidden_size=12, cnn_out_channels=3, gru_num_layers=2, dropout=0.,\n",
    "    kernel_size=(5, 24),\n",
    "    stride=(3, 15),\n",
    "    n_mels=40,\n",
    ")\n",
    "\n",
    "config.num_epochs = 100\n",
    "\n",
    "st_model = CRNN(config).to(config.device)"
   ]
  },
  {
   "cell_type": "code",
   "execution_count": 72,
   "metadata": {
    "ExecuteTime": {
     "end_time": "2022-11-03T20:13:27.334005Z",
     "start_time": "2022-11-03T20:13:27.320603Z"
    },
    "hidden": true
   },
   "outputs": [
    {
     "name": "stdout",
     "output_type": "stream",
     "text": [
      "[INFO] Register count_convNd() for <class 'torch.nn.modules.conv.Conv2d'>.\n",
      "[INFO] Register zero_ops() for <class 'torch.nn.modules.container.Sequential'>.\n",
      "[INFO] Register count_gru() for <class 'torch.nn.modules.rnn.GRU'>.\n",
      "[INFO] Register count_linear() for <class 'torch.nn.modules.linear.Linear'>.\n"
     ]
    },
    {
     "data": {
      "text/plain": [
       "88584.0"
      ]
     },
     "execution_count": 72,
     "metadata": {},
     "output_type": "execute_result"
    }
   ],
   "source": [
    "Metrics.get_macs(st_model)"
   ]
  },
  {
   "cell_type": "code",
   "execution_count": 76,
   "metadata": {
    "ExecuteTime": {
     "end_time": "2022-11-03T20:19:53.648434Z",
     "start_time": "2022-11-03T20:19:53.638551Z"
    },
    "hidden": true
   },
   "outputs": [
    {
     "data": {
      "text/plain": [
       "7.0644727101420015"
      ]
     },
     "execution_count": 76,
     "metadata": {},
     "output_type": "execute_result"
    }
   ],
   "source": [
    "Metrics.get_size_in_megabytes(base_model) / Metrics.get_size_in_megabytes(st_model)"
   ]
  },
  {
   "cell_type": "code",
   "execution_count": 88,
   "metadata": {
    "ExecuteTime": {
     "end_time": "2022-11-03T20:30:49.704715Z",
     "start_time": "2022-11-03T20:30:49.694818Z"
    },
    "hidden": true
   },
   "outputs": [
    {
     "data": {
      "text/plain": [
       "(torch.Size([3, 12, 12]), torch.Size([8, 18, 23]))"
      ]
     },
     "execution_count": 88,
     "metadata": {},
     "output_type": "execute_result"
    }
   ],
   "source": [
    "x = torch.rand([1, 40, 201]).to('cuda')\n",
    "base_model.to('cuda')\n",
    "st_model.to('cuda')\n",
    "st_model.conv[0](x).size(), base_model.conv[0](x).size()"
   ]
  },
  {
   "cell_type": "code",
   "execution_count": 141,
   "metadata": {
    "ExecuteTime": {
     "end_time": "2022-11-03T20:02:16.951437Z",
     "start_time": "2022-11-03T20:02:16.937370Z"
    },
    "hidden": true
   },
   "outputs": [
    {
     "name": "stdout",
     "output_type": "stream",
     "text": [
      "[INFO] Register count_convNd() for <class 'torch.nn.modules.conv.Conv2d'>.\n",
      "[INFO] Register zero_ops() for <class 'torch.nn.modules.container.Sequential'>.\n",
      "[INFO] Register count_gru() for <class 'torch.nn.modules.rnn.GRU'>.\n",
      "[INFO] Register count_linear() for <class 'torch.nn.modules.linear.Linear'>.\n"
     ]
    },
    {
     "data": {
      "text/plain": [
       "88152.0"
      ]
     },
     "execution_count": 141,
     "metadata": {},
     "output_type": "execute_result"
    }
   ],
   "source": [
    "Metrics.get_macs(st_model)"
   ]
  },
  {
   "cell_type": "code",
   "execution_count": 139,
   "metadata": {
    "ExecuteTime": {
     "end_time": "2022-11-03T20:01:49.413565Z",
     "start_time": "2022-11-03T20:01:49.397787Z"
    },
    "hidden": true
   },
   "outputs": [
    {
     "name": "stdout",
     "output_type": "stream",
     "text": [
      "[INFO] Register count_convNd() for <class 'torch.nn.modules.conv.Conv2d'>.\n",
      "conv (50400.0, 0)\n",
      "[INFO] Register count_gru() for <class 'torch.nn.modules.rnn.GRU'>.\n",
      "gru (40656.0, 0)\n"
     ]
    }
   ],
   "source": [
    "x = melspec_val(torch.rand(size=[1, model.config.sample_rate * 2]).to(model.config.device)).unsqueeze(1).cpu()\n",
    "conv = nn.Conv2d(1, 3, kernel_size=(5, 20), stride=(3, 13))\n",
    "print('conv', profile(conv, (x, )))\n",
    "\n",
    "flatten = nn.Flatten(start_dim=1, end_dim=2)\n",
    "conv_output = flatten(conv(x)).transpose(-1, -2).to('cuda')\n",
    "\n",
    "print('gru', profile(st_model.gru, (conv_output, )))"
   ]
  },
  {
   "cell_type": "code",
   "execution_count": 82,
   "metadata": {
    "ExecuteTime": {
     "end_time": "2022-11-03T19:14:34.510274Z",
     "start_time": "2022-11-03T19:14:34.498835Z"
    },
    "hidden": true,
    "scrolled": true
   },
   "outputs": [
    {
     "name": "stdout",
     "output_type": "stream",
     "text": [
      "[INFO] Register count_convNd() for <class 'torch.nn.modules.conv.Conv2d'>.\n",
      "[INFO] Register zero_ops() for <class 'torch.nn.modules.container.Sequential'>.\n",
      "[INFO] Register count_gru() for <class 'torch.nn.modules.rnn.GRU'>.\n",
      "[INFO] Register count_linear() for <class 'torch.nn.modules.linear.Linear'>.\n"
     ]
    },
    {
     "data": {
      "text/plain": [
       "904608.0"
      ]
     },
     "execution_count": 82,
     "metadata": {},
     "output_type": "execute_result"
    }
   ],
   "source": [
    "Metrics.get_macs(base_model)"
   ]
  },
  {
   "cell_type": "code",
   "execution_count": 81,
   "metadata": {
    "ExecuteTime": {
     "end_time": "2022-11-03T19:14:28.330453Z",
     "start_time": "2022-11-03T19:14:28.303472Z"
    },
    "hidden": true
   },
   "outputs": [
    {
     "name": "stdout",
     "output_type": "stream",
     "text": [
      "[INFO] Register count_convNd() for <class 'torch.nn.modules.conv.Conv2d'>.\n",
      "[INFO] Register zero_ops() for <class 'torch.nn.modules.container.Sequential'>.\n",
      "[INFO] Register count_gru() for <class 'torch.nn.modules.rnn.GRU'>.\n",
      "[INFO] Register count_linear() for <class 'torch.nn.modules.linear.Linear'>.\n"
     ]
    },
    {
     "data": {
      "text/plain": [
       "(904608.0, 25387.0)"
      ]
     },
     "execution_count": 81,
     "metadata": {},
     "output_type": "execute_result"
    }
   ],
   "source": [
    "base_model.to('cuda')\n",
    "profile(base_model, melspec_val(torch.rand([1, 32000]).to('cuda')).unsqueeze(0))"
   ]
  },
  {
   "cell_type": "code",
   "execution_count": 30,
   "metadata": {
    "ExecuteTime": {
     "end_time": "2022-11-03T18:07:16.706370Z",
     "start_time": "2022-11-03T18:07:16.688750Z"
    },
    "hidden": true
   },
   "outputs": [
    {
     "name": "stdout",
     "output_type": "stream",
     "text": [
      "[INFO] Register count_convNd() for <class 'torch.nn.modules.conv.Conv2d'>.\n",
      "[INFO] Register zero_ops() for <class 'torch.nn.modules.container.Sequential'>.\n",
      "[INFO] Register count_gru() for <class 'torch.nn.modules.rnn.GRU'>.\n",
      "[INFO] Register count_linear() for <class 'torch.nn.modules.linear.Linear'>.\n"
     ]
    },
    {
     "data": {
      "text/plain": [
       "3618432.0"
      ]
     },
     "execution_count": 30,
     "metadata": {},
     "output_type": "execute_result"
    }
   ],
   "source": [
    "base_model.to('cuda')\n",
    "Metrics.get_macs(base_model)"
   ]
  },
  {
   "cell_type": "code",
   "execution_count": 35,
   "metadata": {
    "ExecuteTime": {
     "end_time": "2022-11-03T18:13:14.305936Z",
     "start_time": "2022-11-03T18:13:14.275688Z"
    },
    "hidden": true
   },
   "outputs": [
    {
     "name": "stdout",
     "output_type": "stream",
     "text": [
      "[INFO] Register count_convNd() for <class 'torch.nn.modules.conv.Conv2d'>.\n",
      "[INFO] Register zero_ops() for <class 'torch.nn.modules.container.Sequential'>.\n",
      "[INFO] Register count_gru() for <class 'torch.nn.modules.rnn.GRU'>.\n",
      "[INFO] Register count_linear() for <class 'torch.nn.modules.linear.Linear'>.\n"
     ]
    },
    {
     "data": {
      "text/plain": [
       "315144.0"
      ]
     },
     "execution_count": 35,
     "metadata": {},
     "output_type": "execute_result"
    }
   ],
   "source": [
    "config = TaskConfig(\n",
    "    hidden_size=12, cnn_out_channels=4, gru_num_layers=2, dropout=0.,\n",
    "    kernel_size=(5, 20),\n",
    "    stride=(3, 10),\n",
    "    n_mels=40,\n",
    ")\n",
    "\n",
    "config.num_epochs = 100\n",
    "\n",
    "st_model = CRNN(config).to(config.device)\n",
    "Metrics.get_macs(st_model)"
   ]
  },
  {
   "cell_type": "code",
   "execution_count": 27,
   "metadata": {
    "ExecuteTime": {
     "end_time": "2022-11-03T15:45:22.641228Z",
     "start_time": "2022-11-03T15:45:22.629739Z"
    },
    "hidden": true
   },
   "outputs": [],
   "source": [
    "@dataclasses.dataclass\n",
    "class TaskConfig:\n",
    "    keyword: str = 'sheila'  # We will use 1 key word -- 'sheila'\n",
    "    batch_size: int = 128\n",
    "    learning_rate: float = 3e-4\n",
    "    weight_decay: float = 1e-5\n",
    "    num_epochs: int = 20\n",
    "    n_mels: int = 40\n",
    "    cnn_out_channels: int = 8\n",
    "    kernel_size: Tuple[int, int] = (5, 20)\n",
    "    stride: Tuple[int, int] = (2, 8)\n",
    "    hidden_size: int = 64\n",
    "    gru_num_layers: int = 2\n",
    "    bidirectional: bool = False\n",
    "    dropout: float = 0.1\n",
    "    num_classes: int = 2\n",
    "    sample_rate: int = 16000\n",
    "    device: torch.device = torch.device(\n",
    "        'cuda:0' if torch.cuda.is_available() else 'cpu')"
   ]
  },
  {
   "cell_type": "code",
   "execution_count": 49,
   "metadata": {
    "ExecuteTime": {
     "end_time": "2022-11-03T17:05:52.616807Z",
     "start_time": "2022-11-03T17:05:52.611736Z"
    },
    "hidden": true
   },
   "outputs": [],
   "source": [
    "import torch.nn.utils.prune as prune"
   ]
  },
  {
   "cell_type": "code",
   "execution_count": null,
   "metadata": {
    "hidden": true
   },
   "outputs": [],
   "source": [
    "class Attention(nn.Module):\n",
    "\n",
    "    def __init__(self, hidden_size: int):\n",
    "        super().__init__()\n",
    "\n",
    "        self.energy = nn.Sequential(\n",
    "            nn.Linear(hidden_size, hidden_size),\n",
    "            nn.Tanh(),\n",
    "            nn.Linear(hidden_size, 1)\n",
    "        )\n",
    "    \n",
    "    def forward(self, input):\n",
    "        energy = self.energy(input)\n",
    "        alpha = torch.softmax(energy, dim=-2)\n",
    "        return (input * alpha).sum(dim=-2)\n",
    "\n",
    "class CRNNAdaptive(nn.Module):\n",
    "\n",
    "    def __init__(self, config: TaskConfig):\n",
    "        super().__init__()\n",
    "        self.config = config\n",
    "        \n",
    "        self.pool = nn.AdaptiveAvgPool2d((config.n_mels * 3 // 4), )\n",
    "        self.conv = nn.Sequential(\n",
    "            nn.Conv2d(\n",
    "                in_channels=1, out_channels=config.cnn_out_channels,\n",
    "                kernel_size=config.kernel_size, stride=config.stride\n",
    "            ),\n",
    "            nn.Flatten(start_dim=1, end_dim=2),\n",
    "        )\n",
    "\n",
    "        self.conv_out_frequency = (config.n_mels - config.kernel_size[0]) // \\\n",
    "            config.stride[0] + 1\n",
    "        \n",
    "        self.gru = nn.GRU(\n",
    "            input_size=self.conv_out_frequency * config.cnn_out_channels,\n",
    "            hidden_size=config.hidden_size,\n",
    "            num_layers=config.gru_num_layers,\n",
    "            dropout=config.dropout,\n",
    "            bidirectional=config.bidirectional,\n",
    "            batch_first=True\n",
    "        )\n",
    "\n",
    "        self.attention = Attention(config.hidden_size)\n",
    "        self.classifier = nn.Linear(config.hidden_size, config.num_classes)\n",
    "    \n",
    "    def forward(self, input):\n",
    "        input = input.unsqueeze(dim=1)\n",
    "        conv_output = self.conv(input).transpose(-1, -2)\n",
    "        gru_output, _ = self.gru(conv_output)\n",
    "        contex_vector = self.attention(gru_output)\n",
    "        output = self.classifier(contex_vector)\n",
    "        return output"
   ]
  },
  {
   "cell_type": "code",
   "execution_count": 73,
   "metadata": {
    "ExecuteTime": {
     "end_time": "2022-11-03T17:11:50.232218Z",
     "start_time": "2022-11-03T17:11:50.223766Z"
    },
    "hidden": true
   },
   "outputs": [
    {
     "data": {
      "text/plain": [
       "800"
      ]
     },
     "execution_count": 73,
     "metadata": {},
     "output_type": "execute_result"
    }
   ],
   "source": [
    "(np.abs(m) < 1e-4).sum()"
   ]
  },
  {
   "cell_type": "code",
   "execution_count": 87,
   "metadata": {
    "ExecuteTime": {
     "end_time": "2022-11-03T17:25:20.692493Z",
     "start_time": "2022-11-03T17:25:20.673603Z"
    },
    "hidden": true
   },
   "outputs": [
    {
     "name": "stdout",
     "output_type": "stream",
     "text": [
      "[INFO] Register count_convNd() for <class 'torch.nn.modules.conv.Conv2d'>.\n"
     ]
    },
    {
     "data": {
      "text/plain": [
       "316800.0"
      ]
     },
     "execution_count": 87,
     "metadata": {},
     "output_type": "execute_result"
    }
   ],
   "source": [
    "from copy import deepcopy\n",
    "conv = deepcopy(base_model.conv[0]).cpu()\n",
    "x = torch.rand([2, 1, 40, 101])\n",
    "profile(conv, (x,))[0]"
   ]
  },
  {
   "cell_type": "code",
   "execution_count": 31,
   "metadata": {
    "ExecuteTime": {
     "end_time": "2022-11-03T18:09:07.193257Z",
     "start_time": "2022-11-03T18:09:07.168823Z"
    },
    "hidden": true
   },
   "outputs": [],
   "source": [
    "config = TaskConfig(\n",
    "    hidden_size=12, cnn_out_channels=3, gru_num_layers=2, dropout=0.,\n",
    "    kernel_size=(5, 25),\n",
    "    stride=(3, 15),\n",
    "    n_mels=40,\n",
    ")\n",
    "\n",
    "config.num_epochs = 100\n",
    "\n",
    "st_model = CRNN(config).to(config.device)"
   ]
  },
  {
   "cell_type": "code",
   "execution_count": null,
   "metadata": {
    "hidden": true
   },
   "outputs": [],
   "source": []
  },
  {
   "cell_type": "code",
   "execution_count": null,
   "metadata": {
    "ExecuteTime": {
     "start_time": "2022-11-03T13:05:08.489Z"
    },
    "hidden": true
   },
   "outputs": [
    {
     "data": {
      "image/png": "[encoded data removed]",
      "text/plain": [
       "<Figure size 640x480 with 1 Axes>"
      ]
     },
     "metadata": {},
     "output_type": "display_data"
    },
    {
     "name": "stdout",
     "output_type": "stream",
     "text": [
      "END OF EPOCH 5\n",
      "Val_metric 0.002085720538851644\n"
     ]
    },
    {
     "name": "stderr",
     "output_type": "stream",
     "text": [
      " 84%|███████████████████████████████████████████████████████████████████████████████████████████████████▌                   | 339/405 [00:17<00:03, 20.74it/s]"
     ]
    }
   ],
   "source": [
    "history = defaultdict(list)\n",
    "\n",
    "config = TaskConfig(\n",
    "    hidden_size=12, cnn_out_channels=3, gru_num_layers=2, dropout=0.,\n",
    "    kernel_size=(5, 25),\n",
    "    stride=(3, 15),\n",
    "    n_mels=40,\n",
    ")\n",
    "\n",
    "config.num_epochs = 100\n",
    "\n",
    "st_model = CRNN(config).to(config.device)\n",
    "\n",
    "print(st_model)\n",
    "\n",
    "opt = torch.optim.Adam(\n",
    "    st_model.parameters(),\n",
    "    lr=config.learning_rate,\n",
    "    weight_decay=config.weight_decay\n",
    ")\n",
    "\n",
    "scheduler = torch.optim.lr_scheduler.CosineAnnealingLR(opt, config.num_epochs)\n",
    "\n",
    "history = train_distillation(st_model, base_model, opt, config, 0.9, temp=10)"
   ]
  },
  {
   "cell_type": "code",
   "execution_count": 46,
   "metadata": {
    "ExecuteTime": {
     "end_time": "2022-11-03T12:28:28.988894Z",
     "start_time": "2022-11-03T12:28:28.969949Z"
    },
    "hidden": true
   },
   "outputs": [
    {
     "name": "stdout",
     "output_type": "stream",
     "text": [
      "[INFO] Register count_convNd() for <class 'torch.nn.modules.conv.Conv2d'>.\n",
      "[INFO] Register zero_ops() for <class 'torch.nn.modules.container.Sequential'>.\n",
      "torch.Size([2, 1, 40, 201])\n",
      "[INFO] Register count_gru() for <class 'torch.nn.modules.rnn.GRU'>.\n",
      "[INFO] Register count_linear() for <class 'torch.nn.modules.linear.Linear'>.\n",
      "[INFO] Register zero_ops() for <class 'torch.nn.modules.container.Sequential'>.\n",
      "[INFO] Register count_linear() for <class 'torch.nn.modules.linear.Linear'>.\n"
     ]
    },
    {
     "data": {
      "text/plain": [
       "{'conv': 108000.0, 'gru': 69696.0, 'attention': 3744.0, 'classifier': 48.0}"
      ]
     },
     "execution_count": 46,
     "metadata": {},
     "output_type": "execute_result"
    }
   ],
   "source": [
    "config = TaskConfig(\n",
    "    hidden_size=12, cnn_out_channels=3, gru_num_layers=2, dropout=0.,\n",
    "    kernel_size=(5, 25),\n",
    "    stride=(3, 15),\n",
    ")\n",
    "config.num_epochs = 50\n",
    "\n",
    "st_model = CRNN(config).to(config.device)\n",
    "get_number_of_flops_per_layer(st_model)"
   ]
  },
  {
   "cell_type": "code",
   "execution_count": 35,
   "metadata": {
    "ExecuteTime": {
     "end_time": "2022-11-03T12:23:08.189541Z",
     "start_time": "2022-11-03T12:22:52.346984Z"
    },
    "hidden": true
   },
   "outputs": [
    {
     "name": "stdout",
     "output_type": "stream",
     "text": [
      "defaultdict(<class 'list'>, {'val_metric': [0.0025410772408029276, 0.0014148190020440343, 0.0012603162113950025, 0.001142322876847273, 0.0009793312497640954, 0.0008783364745011914, 0.0007147510764336921, 0.0005731262534647208, 0.00047800951256922166, 0.0004708633743408285, 0.00043664545651067653, 0.00038302704149429783, 0.0003283762407463851, 0.00030826262162421425, 0.0002971003238737261, 0.00026298982190003434, 0.0002830646519629278, 0.00023951945726348258, 0.00022503025173651903, 0.00020381263631184078, 0.0001898038183651575, 0.0001841256968417202, 0.00015752535349887014, 0.00016001382084019787, 0.00015311533583642117, 0.00014184860600326333, 0.0001360362146592508, 0.00012752052426099011, 0.00013887676730786472, 0.00011247036926140112, 0.00011530495436243392, 0.00011202280319281698, 9.884645813370022e-05, 0.0001071115115335538, 9.487207144467316e-05, 8.643992671254815e-05, 9.378001023732786e-05, 0.00010221812251703398, 0.00010180039418635548, 9.295052112355195e-05, 8.489433188903762e-05, 8.453627903417033e-05, 9.227022069930407e-05, 8.664282333030629e-05, 7.600865354074739e-05, 7.90879080926062e-05, 7.665911622708965e-05, 8.45004737486836e-05, 8.184491507508444e-05, 7.16463762589474e-05]})\n",
      "[INFO] Register count_convNd() for <class 'torch.nn.modules.conv.Conv2d'>.\n",
      "[INFO] Register zero_ops() for <class 'torch.nn.modules.container.Sequential'>.\n",
      "[INFO] Register count_gru() for <class 'torch.nn.modules.rnn.GRU'>.\n",
      "[INFO] Register count_linear() for <class 'torch.nn.modules.linear.Linear'>.\n"
     ]
    },
    {
     "name": "stderr",
     "output_type": "stream",
     "text": [
      "102it [00:03, 28.60it/s]\n"
     ]
    },
    {
     "name": "stdout",
     "output_type": "stream",
     "text": [
      "[INFO] Register count_convNd() for <class 'torch.nn.modules.conv.Conv2d'>.\n",
      "[INFO] Register zero_ops() for <class 'torch.nn.modules.container.Sequential'>.\n",
      "[INFO] Register count_gru() for <class 'torch.nn.modules.rnn.GRU'>.\n",
      "[INFO] Register count_linear() for <class 'torch.nn.modules.linear.Linear'>.\n"
     ]
    },
    {
     "name": "stderr",
     "output_type": "stream",
     "text": [
      "102it [00:03, 29.47it/s]\n"
     ]
    },
    {
     "name": "stdout",
     "output_type": "stream",
     "text": [
      "Macs improvement 4.31777306833152\n",
      "Mbs imporvement 5.041694055779885\n",
      "Val metric 7.16463762589474e-05\n"
     ]
    }
   ],
   "source": [
    "print(history)\n",
    "eval_metric = Metrics(base_model)\n",
    "eval_metric(st_model)"
   ]
  },
  {
   "cell_type": "code",
   "execution_count": null,
   "metadata": {
    "hidden": true
   },
   "outputs": [],
   "source": []
  },
  {
   "cell_type": "code",
   "execution_count": null,
   "metadata": {
    "ExecuteTime": {
     "start_time": "2022-11-03T10:47:37.850Z"
    },
    "hidden": true
   },
   "outputs": [],
   "source": [
    "history = defaultdict(list)\n",
    "\n",
    "config = TaskConfig(\n",
    "    hidden_size=8, cnn_out_channels=3, gru_num_layers=2, dropout=0.,\n",
    "    kernel_size=(5, 20),\n",
    "    stride=(2, 8),\n",
    ")\n",
    "config.num_epochs = 50\n",
    "\n",
    "st_model = CRNN(config).to(config.device)\n",
    "\n",
    "print(st_model)\n",
    "\n",
    "opt = torch.optim.Adam(\n",
    "    st_model.parameters(),\n",
    "    lr=config.learning_rate,\n",
    "    weight_decay=config.weight_decay\n",
    ")\n",
    "\n",
    "history = train_distillation(st_model, base_model, opt, config, 0.8, temp=10)"
   ]
  },
  {
   "cell_type": "code",
   "execution_count": null,
   "metadata": {
    "ExecuteTime": {
     "start_time": "2022-11-03T10:17:38.289Z"
    },
    "hidden": true
   },
   "outputs": [],
   "source": [
    "history = defaultdict(list)\n",
    "\n",
    "config = TaskConfig(\n",
    "    hidden_size=8, cnn_out_channels=3, gru_num_layers=2, dropout=0.,\n",
    "    kernel_size=(5, 20),\n",
    "    stride=(2, 8),\n",
    ")\n",
    "config.num_epochs = 40\n",
    "\n",
    "st_model = CRNN(config).to(config.device)\n",
    "\n",
    "print(st_model)\n",
    "\n",
    "opt = torch.optim.Adam(\n",
    "    st_model.parameters(),\n",
    "    lr=config.learning_rate,\n",
    "    weight_decay=config.weight_decay\n",
    ")\n",
    "\n",
    "history = train_distillation(st_model, base_model, opt, config, 0.9, temp=5)"
   ]
  },
  {
   "cell_type": "code",
   "execution_count": 74,
   "metadata": {
    "hidden": true
   },
   "outputs": [],
   "source": [
    "config = TaskConfig(\n",
    "    hidden_size=16, cnn_out_channels=4, gru_num_layers=1, dropout=0.,\n",
    "    kernel_size=(5, 20),\n",
    "    stride=(2, 8),\n",
    ")\n",
    "config.num_epochs = 30\n",
    "\n",
    "st_model = CRNN(config).to(config.device)\n"
   ]
  },
  {
   "cell_type": "code",
   "execution_count": 77,
   "metadata": {
    "hidden": true
   },
   "outputs": [
    {
     "name": "stdout",
     "output_type": "stream",
     "text": [
      "[INFO] Register count_convNd() for <class 'torch.nn.modules.conv.Conv2d'>.\n",
      "[INFO] Register zero_ops() for <class 'torch.nn.modules.container.Sequential'>.\n",
      "torch.Size([2, 1, 40, 201])\n",
      "[INFO] Register count_gru() for <class 'torch.nn.modules.rnn.GRU'>.\n",
      "[INFO] Register count_linear() for <class 'torch.nn.modules.linear.Linear'>.\n",
      "[INFO] Register zero_ops() for <class 'torch.nn.modules.container.Sequential'>.\n",
      "[INFO] Register count_linear() for <class 'torch.nn.modules.linear.Linear'>.\n"
     ]
    },
    {
     "data": {
      "text/plain": [
       "1256704.0"
      ]
     },
     "execution_count": 77,
     "metadata": {},
     "output_type": "execute_result"
    }
   ],
   "source": [
    "sum(get_number_of_flops_per_layer(st_model).values())"
   ]
  },
  {
   "cell_type": "code",
   "execution_count": 99,
   "metadata": {
    "hidden": true
   },
   "outputs": [
    {
     "data": {
      "text/plain": [
       "CRNN(\n",
       "  (conv): Sequential(\n",
       "    (0): Conv2d(1, 8, kernel_size=(5, 20), stride=(2, 8))\n",
       "    (1): Flatten(start_dim=1, end_dim=2)\n",
       "  )\n",
       "  (gru): GRU(144, 32, num_layers=2, batch_first=True)\n",
       "  (attention): Attention(\n",
       "    (energy): Sequential(\n",
       "      (0): Linear(in_features=32, out_features=32, bias=True)\n",
       "      (1): Tanh()\n",
       "      (2): Linear(in_features=32, out_features=1, bias=True)\n",
       "    )\n",
       "  )\n",
       "  (classifier): Linear(in_features=32, out_features=2, bias=True)\n",
       ")"
      ]
     },
     "execution_count": 99,
     "metadata": {},
     "output_type": "execute_result"
    }
   ],
   "source": [
    "base_model"
   ]
  },
  {
   "cell_type": "code",
   "execution_count": 89,
   "metadata": {
    "hidden": true
   },
   "outputs": [
    {
     "data": {
      "text/plain": [
       "torch.Size([2, 72, 11])"
      ]
     },
     "execution_count": 89,
     "metadata": {},
     "output_type": "execute_result"
    }
   ],
   "source": [
    "config = TaskConfig(\n",
    "    hidden_size=8, cnn_out_channels=3, gru_num_layers=2, dropout=0.,\n",
    "    kernel_size=(5, 20),\n",
    "    stride=(2, 8),\n",
    ")\n",
    "config.num_epochs = 30\n",
    "\n",
    "st_model = CRNN(config).to(config.device)\n",
    "\n",
    "x = torch.rand(size=[2, 1, 40, 101])\n",
    "\n",
    "st_model.conv(x).size()"
   ]
  },
  {
   "cell_type": "markdown",
   "metadata": {},
   "source": [
    "## Streaming"
   ]
  },
  {
   "cell_type": "code",
   "execution_count": 27,
   "metadata": {
    "ExecuteTime": {
     "end_time": "2022-11-07T01:21:05.370775Z",
     "start_time": "2022-11-07T01:21:05.364026Z"
    }
   },
   "outputs": [],
   "source": [
    "class Half(nn.Module):\n",
    "    def __init__(self, model):\n",
    "        super().__init__()\n",
    "        self.config = model.config\n",
    "        self.model = model.half()\n",
    "        \n",
    "    def forward(self, x):\n",
    "        return self.model(x.half())"
   ]
  },
  {
   "cell_type": "code",
   "execution_count": 63,
   "metadata": {
    "ExecuteTime": {
     "end_time": "2022-11-07T01:34:35.504311Z",
     "start_time": "2022-11-07T01:34:35.491072Z"
    }
   },
   "outputs": [
    {
     "data": {
      "text/plain": [
       "CRNN(\n",
       "  (conv): Sequential(\n",
       "    (0): Conv2d(1, 3, kernel_size=(5, 24), stride=(3, 15))\n",
       "    (1): Flatten(start_dim=1, end_dim=2)\n",
       "  )\n",
       "  (gru): GRU(36, 12, num_layers=2, batch_first=True)\n",
       "  (attention): Attention(\n",
       "    (energy): Sequential(\n",
       "      (0): Linear(in_features=12, out_features=12, bias=True)\n",
       "      (1): Tanh()\n",
       "      (2): Linear(in_features=12, out_features=1, bias=True)\n",
       "    )\n",
       "  )\n",
       "  (classifier): Linear(in_features=12, out_features=2, bias=True)\n",
       ")"
      ]
     },
     "execution_count": 63,
     "metadata": {},
     "output_type": "execute_result"
    }
   ],
   "source": [
    "path = '/home/dpozdeev/dla-kws/save/C_Dist/1106_114532/C_Dist_a=0.9_T=20_sched=False.tar'\n",
    "\n",
    "best_model = utils.load_model(path)\n",
    "best_model"
   ]
  },
  {
   "cell_type": "code",
   "execution_count": 169,
   "metadata": {
    "ExecuteTime": {
     "end_time": "2022-11-07T02:19:24.882203Z",
     "start_time": "2022-11-07T02:19:24.860408Z"
    }
   },
   "outputs": [],
   "source": [
    "class Streaming(nn.Module):\n",
    "    def __init__(self, model, melspec, window_size=7500, step_size=3750, is_half=True):\n",
    "        super().__init__()\n",
    "        \n",
    "        \n",
    "        self.window_size = window_size\n",
    "        self.step_size = step_size\n",
    "        \n",
    "        self.is_half = is_half\n",
    "        self.model = model if not is_half else model.half()\n",
    "        config = self.model.config\n",
    "        self.device = config.device\n",
    "        \n",
    "        self.melspec = torchaudio.transforms.MelSpectrogram(\n",
    "                sample_rate=config.sample_rate,\n",
    "                n_fft=400,\n",
    "                win_length=400,\n",
    "                hop_length=160,\n",
    "                n_mels=config.n_mels\n",
    "        ).to(config.device)\n",
    "        \n",
    "        \n",
    "        self.buffer = torch.zeros([1, 0])\n",
    "        self.gru_outputs = torch.zeros([1, 0, 1]).to(self.device)\n",
    "        self.hidden = torch.zeros([1, 0]).to(self.device)\n",
    "        \n",
    "        self.prev_proba = 0.\n",
    "        \n",
    "    def forward(self, chunk):\n",
    "        assert len(chunk.size()) == 2\n",
    "        max_proba = 0.\n",
    "        \n",
    "        if self.buffer.size()[-1] < self.window_size:\n",
    "            need_len = self.window_size - self.buffer.size()[-1]\n",
    "            \n",
    "            self.buffer = torch.cat([self.buffer, chunk[:, :need_len]], dim=1)\n",
    "            chunk = chunk[:, need_len:]\n",
    "            \n",
    "            if self.buffer.size()[-1] == self.window_size:\n",
    "                max_proba = self.model_forward(self.buffer)\n",
    "            else:\n",
    "                return self.prev_proba\n",
    "\n",
    "        chunks = torch.split(chunk, self.step_size, dim=-1)\n",
    "        for chunk in chunks:\n",
    "            \n",
    "            self.buffer = torch.cat([self.buffer[:, self.step_size:], chunk], dim=1)\n",
    "            \n",
    "            if self.buffer.size()[-1] == self.window_size:\n",
    "                cur_proba = self.model_forward(self.buffer)\n",
    "                max_proba = max(max_proba, cur_proba)\n",
    "        \n",
    "        self.prev_proba = max_proba\n",
    "        return max_proba\n",
    "    \n",
    "\n",
    "    def model_forward(self, x):\n",
    "        \n",
    "        if self.gru_outputs is not None:\n",
    "            x = x[:, -self.step_size:]\n",
    "        \n",
    "        x = x.to(self.device)\n",
    "        x = torch.log(self.melspec(x).clamp_(min=1e-9, max=1e9))\n",
    "        x = x if not self.is_half else x.half()\n",
    "        input = x.unsqueeze(dim=1)\n",
    "        conv_output = self.model.conv(input).transpose(-1, -2)\n",
    "        \n",
    "        hidden = None if self.hidden.size()[-1] == 0 else self.hidden\n",
    "        gru_outputs, hidden = self.model.gru(conv_output, hidden)\n",
    "        self.hidden = hidden\n",
    "        \n",
    "        if self.gru_outputs.size()[1] != 0:\n",
    "            gru_outputs = torch.cat([self.gru_outputs[:, self.step_size:, :], gru_outputs], dim=1)\n",
    "        \n",
    "        self.gru_outputs = gru_outputs\n",
    "        \n",
    "        contex_vector = self.model.attention(gru_outputs)\n",
    "        output = self.model.classifier(contex_vector)\n",
    "        return F.softmax(output, dim=-1)[0][1].item()\n",
    "        \n",
    "        "
   ]
  },
  {
   "cell_type": "code",
   "execution_count": 163,
   "metadata": {
    "ExecuteTime": {
     "end_time": "2022-11-07T02:16:51.470289Z",
     "start_time": "2022-11-07T02:16:51.461296Z"
    }
   },
   "outputs": [],
   "source": [
    "paths = [\n",
    "    '/home/dpozdeev/dla-kws/speech_commands/right/0a7c2a8d_nohash_1.wav',\n",
    "    '/home/dpozdeev/dla-kws/speech_commands/sheila/0b09edd3_nohash_0.wav',\n",
    "    '/home/dpozdeev/dla-kws/speech_commands/stop/0ab3b47d_nohash_0.wav'\n",
    "]\n",
    "\n",
    "audio = torch.zeros([1, 32000])\n",
    "for path in paths:\n",
    "    wav, sr = torchaudio.load(path)\n",
    "    audio = torch.cat([audio, wav], dim=1)\n",
    "    \n",
    "audio = torch.cat([audio, torch.zeros([1, 16000])], dim=1)"
   ]
  },
  {
   "cell_type": "code",
   "execution_count": 91,
   "metadata": {
    "ExecuteTime": {
     "end_time": "2022-11-07T01:43:05.512367Z",
     "start_time": "2022-11-07T01:43:05.504229Z"
    },
    "scrolled": true
   },
   "outputs": [
    {
     "data": {
      "text/plain": [
       "torch.Size([1, 40, 24])"
      ]
     },
     "execution_count": 91,
     "metadata": {},
     "output_type": "execute_result"
    }
   ],
   "source": [
    "melspec_val(torch.rand([1, 3750]).to('cuda')).size()"
   ]
  },
  {
   "cell_type": "code",
   "execution_count": 170,
   "metadata": {
    "ExecuteTime": {
     "end_time": "2022-11-07T02:19:28.494447Z",
     "start_time": "2022-11-07T02:19:28.228908Z"
    }
   },
   "outputs": [],
   "source": [
    "streaming = Streaming(best_model.to('cuda'), melspec_val)\n",
    "hop_size = 1000\n",
    "\n",
    "x = []\n",
    "for i in range(int(audio.size()[-1] / hop_size)):\n",
    "    x.append(streaming(audio[:, i * hop_size:i * hop_size + 7500]))"
   ]
  },
  {
   "cell_type": "code",
   "execution_count": 166,
   "metadata": {
    "ExecuteTime": {
     "end_time": "2022-11-07T02:17:09.709691Z",
     "start_time": "2022-11-07T02:17:09.559971Z"
    }
   },
   "outputs": [
    {
     "data": {
      "text/plain": [
       "[<matplotlib.lines.Line2D at 0x7f3fe1c22970>]"
      ]
     },
     "execution_count": 166,
     "metadata": {},
     "output_type": "execute_result"
    },
    {
     "data": {
      "image/png": "[encoded data removed]",
      "text/plain": [
       "<Figure size 640x480 with 1 Axes>"
      ]
     },
     "metadata": {},
     "output_type": "display_data"
    }
   ],
   "source": [
    "plt.plot(np.arange(i+1), x)"
   ]
  },
  {
   "cell_type": "code",
   "execution_count": 171,
   "metadata": {
    "ExecuteTime": {
     "end_time": "2022-11-07T02:19:30.819675Z",
     "start_time": "2022-11-07T02:19:30.665532Z"
    }
   },
   "outputs": [],
   "source": [
    "import torch\n",
    "import io\n",
    "\n",
    "\n",
    "m = torch.jit.script(streaming)\n",
    "\n",
    "# Save to file\n",
    "torch.jit.save(m, 'stream_jit.pt')"
   ]
  },
  {
   "cell_type": "code",
   "execution_count": 172,
   "metadata": {
    "ExecuteTime": {
     "end_time": "2022-11-07T02:19:33.984467Z",
     "start_time": "2022-11-07T02:19:33.861498Z"
    }
   },
   "outputs": [
    {
     "data": {
      "text/plain": [
       "0.99755859375"
      ]
     },
     "execution_count": 172,
     "metadata": {},
     "output_type": "execute_result"
    }
   ],
   "source": [
    "m = torch.jit.load('/home/dpozdeev/dla-kws/stream_jit.pt')\n",
    "m(audio)"
   ]
  },
  {
   "cell_type": "code",
   "execution_count": null,
   "metadata": {},
   "outputs": [],
   "source": []
  },
  {
   "cell_type": "code",
   "execution_count": null,
   "metadata": {},
   "outputs": [],
   "source": [
    "torch.jit.save(streaming, 'stream_jit.pth')"
   ]
  },
  {
   "cell_type": "code",
   "execution_count": 140,
   "metadata": {
    "ExecuteTime": {
     "end_time": "2022-11-07T02:10:37.148405Z",
     "start_time": "2022-11-07T02:10:37.126023Z"
    }
   },
   "outputs": [],
   "source": [
    "class LogMelspec:\n",
    "\n",
    "    def __init__(self, is_train, config):\n",
    "        # with augmentations\n",
    "        if is_train:\n",
    "            self.melspec = nn.Sequential(\n",
    "                torchaudio.transforms.MelSpectrogram(\n",
    "                    sample_rate=config.sample_rate,\n",
    "                    n_fft=400,\n",
    "                    win_length=400,\n",
    "                    hop_length=160,\n",
    "                    n_mels=config.n_mels\n",
    "                ),\n",
    "                torchaudio.transforms.FrequencyMasking(freq_mask_param=15),\n",
    "                torchaudio.transforms.TimeMasking(time_mask_param=35),\n",
    "            ).to(config.device)\n",
    "\n",
    "        # no augmentations\n",
    "        else:\n",
    "            self.melspec = torchaudio.transforms.MelSpectrogram(\n",
    "                sample_rate=config.sample_rate,\n",
    "                n_fft=400,\n",
    "                win_length=400,\n",
    "                hop_length=160,\n",
    "                n_mels=config.n_mels\n",
    "            ).to(config.device)\n",
    "\n",
    "    def __call__(self, batch):\n",
    "        # already on device\n",
    "        return torch.log(self.melspec(batch).clamp_(min=1e-9, max=1e9))\n",
    "\n",
    "\n",
    "\n",
    "class Streaming(nn.Module):\n",
    "    def __init__(self, model, melspec, window_size=7500, step_size=3750, is_half=True):\n",
    "        super().__init__()\n",
    "        \n",
    "        \n",
    "        self.window_size = window_size\n",
    "        self.step_size = step_size\n",
    "        \n",
    "        self.is_half = is_half\n",
    "        self.model = model if not is_half else model.half()\n",
    "        config = self.model.config\n",
    "        self.device = config.device\n",
    "        \n",
    "        self.melspec = torchaudio.transforms.MelSpectrogram(\n",
    "                sample_rate=config.sample_rate,\n",
    "                n_fft=400,\n",
    "                win_length=400,\n",
    "                hop_length=160,\n",
    "                n_mels=config.n_mels\n",
    "        ).to(config.device)\n",
    "        \n",
    "        \n",
    "        self.buffer = torch.zeros([1, 0])\n",
    "        self.gru_outputs = None\n",
    "        self.hidden = None\n",
    "        \n",
    "        self.prev_proba = 0\n",
    "        \n",
    "    def forward(self, chunk):\n",
    "        assert len(chunk.size()) == 2\n",
    "        max_proba = 0\n",
    "        \n",
    "        if self.buffer.size()[-1] < self.window_size:\n",
    "            need_len = self.window_size - self.buffer.size()[-1]\n",
    "            \n",
    "            self.buffer = torch.cat([self.buffer, chunk[:, :need_len]], dim=1)\n",
    "            chunk = chunk[:, need_len:]\n",
    "            \n",
    "            if self.buffer.size()[-1] == self.window_size:\n",
    "                max_proba = self.model_forward(self.buffer)\n",
    "            else:\n",
    "                return self.prev_proba\n",
    "\n",
    "        chunks = torch.split(chunk, self.step_size, dim=-1)\n",
    "        for chunk in chunks:\n",
    "            \n",
    "            self.buffer = torch.cat([self.buffer[:, self.step_size:], chunk], dim=1)\n",
    "            \n",
    "            if self.buffer.size()[-1] == self.window_size:\n",
    "                cur_proba = self.model_forward(self.buffer)\n",
    "                max_proba = max(max_proba, cur_proba)\n",
    "        \n",
    "        self.prev_proba = max_proba\n",
    "        return max_proba\n",
    "    \n",
    "\n",
    "    def model_forward(self, x):\n",
    "        \n",
    "        if self.gru_outputs is not None:\n",
    "            x = x[:, -self.step_size:]\n",
    "        \n",
    "        x = x.to(self.device)\n",
    "        x = torch.log(self.melspec(x).clamp_(min=1e-9, max=1e9))\n",
    "        x = x if not self.is_half else x.half()\n",
    "        input = x.unsqueeze(dim=1)\n",
    "        conv_output = self.model.conv(input).transpose(-1, -2)\n",
    "        \n",
    "        gru_outputs, hidden = self.model.gru(conv_output, self.hidden)\n",
    "        self.hidden = hidden\n",
    "        \n",
    "        if self.gru_outputs is not None:\n",
    "            gru_outputs = torch.cat([self.gru_outputs[:, self.step_size:, :], gru_outputs], dim=1)\n",
    "        \n",
    "        self.gru_outputs = gru_outputs\n",
    "        \n",
    "        contex_vector = self.model.attention(gru_outputs)\n",
    "        output = self.model.classifier(contex_vector)\n",
    "        return F.softmax(output, dim=-1)[0][1].item()\n",
    "        \n",
    "        "
   ]
  },
  {
   "cell_type": "code",
   "execution_count": null,
   "metadata": {},
   "outputs": [],
   "source": []
  },
  {
   "cell_type": "code",
   "execution_count": null,
   "metadata": {},
   "outputs": [],
   "source": []
  }
 ],
 "metadata": {
  "accelerator": "GPU",
  "colab": {
   "collapsed_sections": [],
   "name": "seminar.ipynb",
   "provenance": [],
   "toc_visible": true
  },
  "kernelspec": {
   "display_name": "Python 3 (ipykernel)",
   "language": "python",
   "name": "python3"
  },
  "language_info": {
   "codemirror_mode": {
    "name": "ipython",
    "version": 3
   },
   "file_extension": ".py",
   "mimetype": "text/x-python",
   "name": "python",
   "nbconvert_exporter": "python",
   "pygments_lexer": "ipython3",
   "version": "3.9.13"
  },
  "varInspector": {
   "cols": {
    "lenName": 16,
    "lenType": 16,
    "lenVar": 40
   },
   "kernels_config": {
    "python": {
     "delete_cmd_postfix": "",
     "delete_cmd_prefix": "del ",
     "library": "var_list.py",
     "varRefreshCmd": "print(var_dic_list())"
    },
    "r": {
     "delete_cmd_postfix": ") ",
     "delete_cmd_prefix": "rm(",
     "library": "var_list.r",
     "varRefreshCmd": "cat(var_dic_list()) "
    }
   },
   "types_to_exclude": [
    "module",
    "function",
    "builtin_function_or_method",
    "instance",
    "_Feature"
   ],
   "window_display": false
  },
  "vscode": {
   "interpreter": {
    "hash": "2a0d8e898d8e022645e2c9c99e203bc815375bf8cee813c500179cd9f41b7dd4"
   }
  }
 },
 "nbformat": 4,
 "nbformat_minor": 1
}
